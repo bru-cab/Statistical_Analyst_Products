{
 "cells": [
  {
   "cell_type": "code",
   "execution_count": 412,
   "metadata": {},
   "outputs": [
    {
     "name": "stderr",
     "output_type": "stream",
     "text": [
      "/var/folders/88/g84kk_9n2498jwvfh8mnxj8w0000gn/T/ipykernel_60796/2282718759.py:7: DtypeWarning: Columns (2,4,6,7,8,9,10) have mixed types. Specify dtype option on import or set low_memory=False.\n",
      "  df = pd.read_csv(file_path)\n"
     ]
    },
    {
     "name": "stdout",
     "output_type": "stream",
     "text": [
      "         Unnamed: 0                                Name Beer ID  Brewer ID  \\\n",
      "1586614           0            John Harvards Simcoe IPA   63836       8481   \n",
      "1586615           1            John Harvards Simcoe IPA   63836       8481   \n",
      "1586616           2       John Harvards Cristal Pilsner   71716       8481   \n",
      "1586617           3  John Harvards Fancy Lawnmower Beer   64125       8481   \n",
      "1586618           4  John Harvards Fancy Lawnmower Beer   64125       8481   \n",
      "\n",
      "         ABV                    Beer Style Review - Appearance Review - Aroma  \\\n",
      "1586614  5.4  India Pale Ale &#40;IPA&#41;                 4/5           6/10   \n",
      "1586615  5.4  India Pale Ale &#40;IPA&#41;                 4/5           6/10   \n",
      "1586616    5             Bohemian Pilsener                 4/5           5/10   \n",
      "1586617  5.4                        Kölsch                 2/5           4/10   \n",
      "1586618  5.4                        Kölsch                 2/5           4/10   \n",
      "\n",
      "        Review - Palate Review - Taste Review - Overall  Review - Time  \\\n",
      "1586614             3/5           6/10            13/20     1157587200   \n",
      "1586615             4/5           7/10            13/20     1157241600   \n",
      "1586616             3/5           6/10            14/20      958694400   \n",
      "1586617             2/5           4/10             8/20     1157587200   \n",
      "1586618             2/5           4/10             8/20     1157587200   \n",
      "\n",
      "        Review - Profile Name  \\\n",
      "1586614                hopdog   \n",
      "1586615          TomDecapolis   \n",
      "1586616        PhillyBeer2112   \n",
      "1586617          TomDecapolis   \n",
      "1586618                hopdog   \n",
      "\n",
      "                                             Review - Text File Name  \\\n",
      "1586614  On tap at the Springfield, PA location. Poured...  ratebeer   \n",
      "1586615  On tap at the John Harvards in Springfield PA....  ratebeer   \n",
      "1586616  UPDATED: FEB 19, 2003 Springfield, PA. I've ne...  ratebeer   \n",
      "1586617  On tap the Springfield PA location billed as t...  ratebeer   \n",
      "1586618  On tap at the Springfield, PA location. Poured...  ratebeer   \n",
      "\n",
      "              Time  Rating First Digit  \n",
      "1586614  4-09-2006                   1  \n",
      "1586615  0-09-2006                   1  \n",
      "1586616  5-05-2000                   1  \n",
      "1586617  4-09-2006                   8  \n",
      "1586618  4-09-2006                   8  \n"
     ]
    }
   ],
   "source": [
    "import pandas as pd\n",
    "\n",
    "# Replace 'your_file.csv' with the path to your CSV file\n",
    "file_path = '/Users/bruno/Documents/Statistical_Analyst_Products/combined_ratings.csv'\n",
    "\n",
    "# Read the CSV file\n",
    "df = pd.read_csv(file_path)\n",
    "df['Time'] = pd.to_datetime(df['Review - Time'], unit='s').dt.strftime('%w-%m-%Y')\n",
    "df['Rating First Digit'] = df['Review - Overall'].astype(str).str[0].astype(int)\n",
    "df = df[df['File Name'].str.contains(\"RateBeer\", case=False)]\n",
    "\n",
    "# Print the first few rows of the DataFrame\n",
    "print(df.head())"
   ]
  },
  {
   "cell_type": "code",
   "execution_count": 413,
   "metadata": {},
   "outputs": [],
   "source": [
    "df = df.head(100000)"
   ]
  },
  {
   "cell_type": "code",
   "execution_count": 414,
   "metadata": {},
   "outputs": [
    {
     "name": "stdout",
     "output_type": "stream",
     "text": [
      "100000\n"
     ]
    }
   ],
   "source": [
    "#print(len(df)) #4.5M using both Filenames\n",
    "print(len(df)) #2.9 using only RateBeer"
   ]
  },
  {
   "cell_type": "code",
   "execution_count": 415,
   "metadata": {},
   "outputs": [
    {
     "name": "stdout",
     "output_type": "stream",
     "text": [
      "Index(['Unnamed: 0', 'Name', 'Beer ID', 'Brewer ID', 'ABV', 'Beer Style',\n",
      "       'Review - Appearance', 'Review - Aroma', 'Review - Palate',\n",
      "       'Review - Taste', 'Review - Overall', 'Review - Time',\n",
      "       'Review - Profile Name', 'Review - Text', 'File Name', 'Time',\n",
      "       'Rating First Digit'],\n",
      "      dtype='object')\n"
     ]
    }
   ],
   "source": [
    "print(df.columns)"
   ]
  },
  {
   "cell_type": "code",
   "execution_count": 417,
   "metadata": {},
   "outputs": [],
   "source": [
    "import pandas as pd\n",
    "from dateutil.relativedelta import relativedelta\n",
    "from datetime import datetime, timedelta"
   ]
  },
  {
   "cell_type": "code",
   "execution_count": 418,
   "metadata": {},
   "outputs": [
    {
     "name": "stdout",
     "output_type": "stream",
     "text": [
      "         Brewer ID  Unnamed: 0       Time                    Beer Style  \\\n",
      "1586614       8481           0  4-09-2006  India Pale Ale &#40;IPA&#41;   \n",
      "1586615       8481           1  0-09-2006  India Pale Ale &#40;IPA&#41;   \n",
      "1586616       8481           2  5-05-2000             Bohemian Pilsener   \n",
      "1586617       8481           3  4-09-2006                        Kölsch   \n",
      "1586618       8481           4  4-09-2006                        Kölsch   \n",
      "\n",
      "         Rating First Digit  \n",
      "1586614                   1  \n",
      "1586615                   1  \n",
      "1586616                   1  \n",
      "1586617                   8  \n",
      "1586618                   8  \n"
     ]
    }
   ],
   "source": [
    "########## BrewerID & aux variables\n",
    "df3 = pd.DataFrame(df['Brewer ID'])\n",
    "df3['Unnamed: 0'] = df['Unnamed: 0']\n",
    "df3['Time'] = df['Time']\n",
    "df3['Beer Style'] = df['Beer Style']\n",
    "df3['Rating First Digit'] = df['Rating First Digit']\n",
    "\n",
    "print(df3.head())"
   ]
  },
  {
   "cell_type": "code",
   "execution_count": 419,
   "metadata": {},
   "outputs": [
    {
     "name": "stdout",
     "output_type": "stream",
     "text": [
      "column Time was sucesfully created\n",
      "         Brewer ID  Unnamed: 0       Time                    Beer Style  \\\n",
      "1586614       8481           0  4-09-2006  India Pale Ale &#40;IPA&#41;   \n",
      "1586615       8481           1  0-09-2006  India Pale Ale &#40;IPA&#41;   \n",
      "1586616       8481           2  5-05-2000             Bohemian Pilsener   \n",
      "1586617       8481           3  4-09-2006                        Kölsch   \n",
      "1586618       8481           4  4-09-2006                        Kölsch   \n",
      "\n",
      "         Rating First Digit  \n",
      "1586614                   1  \n",
      "1586615                   1  \n",
      "1586616                   1  \n",
      "1586617                   8  \n",
      "1586618                   8  \n"
     ]
    }
   ],
   "source": [
    "########## Time\n",
    "# The format '%w-%m-%Y' represents the day of the week, month, and year\n",
    "df3['Time'] = pd.to_datetime(df['Review - Time'], unit='s').dt.strftime('%w-%m-%Y')\n",
    "\n",
    "print(\"column Time was sucesfully created\")\n",
    "print(df3.head())"
   ]
  },
  {
   "cell_type": "code",
   "execution_count": 420,
   "metadata": {},
   "outputs": [
    {
     "name": "stdout",
     "output_type": "stream",
     "text": [
      "  Beer ID  Review - Time\n",
      "0      51      956707200\n",
      "1      52      956707200\n",
      "2      53      957052800\n",
      "3      56      961027200\n",
      "4      57     1042416000\n",
      "  Beer ID  Review - Time FirstReviewTime\n",
      "0      51      956707200       3-04-2000\n",
      "1      52      956707200       3-04-2000\n",
      "2      53      957052800       0-04-2000\n",
      "3      56      961027200       4-06-2000\n",
      "4      57     1042416000       1-01-2003\n",
      "     Beer ID  Review - Time FirstReviewTime  Brewer ID          Beer Style\n",
      "0         51      956707200       3-04-2000         12        Abbey Dubbel\n",
      "2383      52      956707200       3-04-2000         12        Abbey Tripel\n",
      "4658      53      957052800       0-04-2000         12  Belgian Strong Ale\n",
      "7714      56      961027200       4-06-2000         14           Brown Ale\n",
      "7907      57     1042416000       1-01-2003         14            Pilsener\n"
     ]
    }
   ],
   "source": [
    "########## NewProduct Calculation\n",
    "# Find the first review date for each product ('Beer ID') in the original DataFrame\n",
    "first_review = df.groupby('Beer ID')['Review - Time'].min().reset_index()\n",
    "print(first_review.head())\n",
    "\n",
    "first_review['FirstReviewTime'] = pd.to_datetime(first_review['Review - Time'], unit='s').dt.strftime('%w-%m-%Y')\n",
    "\n",
    "print(first_review.head())\n",
    "\n",
    "# Merge the first review dates with the 'Beer ID', 'Brewer ID', and 'Beer Style' from the original DataFrame\n",
    "# This associates each first review with its corresponding product and brewer\n",
    "# 'drop_duplicates' is used to ensure each 'Beer ID' is only counted once\n",
    "first_review = first_review.merge(df[['Beer ID', 'Brewer ID', 'Beer Style']], on='Beer ID', how='left').drop_duplicates('Beer ID')\n",
    "\n",
    "print(first_review.head())"
   ]
  },
  {
   "cell_type": "code",
   "execution_count": 421,
   "metadata": {},
   "outputs": [
    {
     "name": "stdout",
     "output_type": "stream",
     "text": [
      "aca\n",
      "   Brewer ID FirstReviewTime  NewProduct\n",
      "0          1       0-01-2010           2\n",
      "1          1       0-02-2010           1\n",
      "2          1       0-05-2000           1\n",
      "3          1       0-06-2007           1\n",
      "4          1       0-07-2006           1\n"
     ]
    }
   ],
   "source": [
    "# Count new products for each 'Brewer ID' in each time period\n",
    "# This gives the number of new products introduced by each brewer in each time period\n",
    "new_product_count = first_review.groupby(['Brewer ID', 'FirstReviewTime']).size().reset_index(name='NewProduct')\n",
    "print(\"aca\")\n",
    "print(new_product_count.head())"
   ]
  },
  {
   "cell_type": "code",
   "execution_count": 422,
   "metadata": {},
   "outputs": [
    {
     "name": "stdout",
     "output_type": "stream",
     "text": [
      "column NewProduct was sucesfully created\n",
      "   Brewer ID  Unnamed: 0       Time                    Beer Style  \\\n",
      "0       8481           0  4-09-2006  India Pale Ale &#40;IPA&#41;   \n",
      "1       8481           1  0-09-2006  India Pale Ale &#40;IPA&#41;   \n",
      "2       8481           2  5-05-2000             Bohemian Pilsener   \n",
      "3       8481           3  4-09-2006                        Kölsch   \n",
      "4       8481           4  4-09-2006                        Kölsch   \n",
      "\n",
      "   Rating First Digit FirstReviewTime  NewProduct  \n",
      "0                   1       4-09-2006           1  \n",
      "1                   1       0-09-2006           1  \n",
      "2                   1       5-05-2000           1  \n",
      "3                   8       4-09-2006           1  \n",
      "4                   8       4-09-2006           1  \n"
     ]
    }
   ],
   "source": [
    "# Merge the new product count with df3, matching on both 'BrewerID' and 'Time'\n",
    "df3 = df3.merge(new_product_count, left_on=['Brewer ID', 'Time'], right_on=['Brewer ID', 'FirstReviewTime'], how='left')\n",
    "\n",
    "# Drop unnecessary columns and handle missing data by filling NaNs with 0\n",
    "df3['NewProduct'].fillna(0, inplace=True)\n",
    "df3['NewProduct'] = df3['NewProduct'].apply(lambda x: 1 if x != 0 else 0)\n",
    "\n",
    "print(\"column NewProduct was sucesfully created\")\n",
    "print(df3.head())"
   ]
  },
  {
   "cell_type": "code",
   "execution_count": 423,
   "metadata": {},
   "outputs": [
    {
     "name": "stdout",
     "output_type": "stream",
     "text": [
      "   Brewer ID  Unnamed: 0       Time                    Beer Style  \\\n",
      "0       8481           0  4-09-2006  India Pale Ale &#40;IPA&#41;   \n",
      "1       8481           1  0-09-2006  India Pale Ale &#40;IPA&#41;   \n",
      "2       8481           2  5-05-2000             Bohemian Pilsener   \n",
      "3       8481           3  4-09-2006                        Kölsch   \n",
      "4       8481           4  4-09-2006                        Kölsch   \n",
      "\n",
      "   Rating First Digit FirstReviewTime  NewProduct  \n",
      "0                   1       4-09-2006           1  \n",
      "1                   1       0-09-2006           1  \n",
      "2                   1       5-05-2000           1  \n",
      "3                   8       4-09-2006           1  \n",
      "4                   8       4-09-2006           1  \n"
     ]
    }
   ],
   "source": [
    "print(df3.head())"
   ]
  },
  {
   "cell_type": "code",
   "execution_count": 424,
   "metadata": {},
   "outputs": [],
   "source": [
    "########## NewMarket Calculation\n",
    "# For each 'BeerID', determine if its first review is also the first entry of the brewer into that 'Beer Style'\n",
    "# This step identifies first market entries into new beer styles for each brewer\n",
    "first_style_entry = first_review.drop_duplicates(subset=['Brewer ID', 'Beer Style'])\n",
    "\n",
    "# Count these first entries for each 'Brewer ID' and time period\n",
    "# This gives the number of new market segments (beer styles) each brewer entered in each time period\n",
    "new_market_count = first_style_entry.groupby(['Brewer ID', 'FirstReviewTime']).size().reset_index(name='NewMarket')\n",
    "\n",
    "# Merge the new market count with df3, matching on both 'BrewerID' and 'Time'\n",
    "df3 = df3.merge(new_market_count, left_on=['Brewer ID', 'Time'], right_on=['Brewer ID', 'FirstReviewTime'], how='left')\n",
    "\n",
    "# Drop unnecessary columns and handle missing data by filling NaNs with 0\n",
    "df3['NewMarket'].fillna(0, inplace=True)\n",
    "\n",
    "df3['NewMarket'] = df3['NewMarket'].apply(lambda x: 1 if x != 0 else 0)\n",
    "df3.drop(columns=['FirstReviewTime_x'], inplace=True)\n",
    "df3 = df3.rename(columns={'FirstReviewTime_y': 'FirstReviewTime'})\n",
    "\n"
   ]
  },
  {
   "cell_type": "code",
   "execution_count": 425,
   "metadata": {},
   "outputs": [
    {
     "name": "stdout",
     "output_type": "stream",
     "text": [
      "   Brewer ID  Unnamed: 0       Time                    Beer Style  \\\n",
      "0       8481           0  4-09-2006  India Pale Ale &#40;IPA&#41;   \n",
      "1       8481           1  0-09-2006  India Pale Ale &#40;IPA&#41;   \n",
      "2       8481           2  5-05-2000             Bohemian Pilsener   \n",
      "3       8481           3  4-09-2006                        Kölsch   \n",
      "4       8481           4  4-09-2006                        Kölsch   \n",
      "\n",
      "   Rating First Digit  NewProduct FirstReviewTime  NewMarket  \n",
      "0                   1           1       4-09-2006          1  \n",
      "1                   1           1       0-09-2006          1  \n",
      "2                   1           1       5-05-2000          1  \n",
      "3                   8           1       4-09-2006          1  \n",
      "4                   8           1       4-09-2006          1  \n",
      "100000\n"
     ]
    }
   ],
   "source": [
    "print(df3.head())\n",
    "print(len(df3))"
   ]
  },
  {
   "cell_type": "code",
   "execution_count": 426,
   "metadata": {},
   "outputs": [
    {
     "name": "stdout",
     "output_type": "stream",
     "text": [
      "column NewCategory was sucesfully created\n"
     ]
    }
   ],
   "source": [
    "########## NewCategory Calculation\n",
    "# Identify the first occurrence of each BeerStyle\n",
    "first_style_occurrence = df.groupby('Beer Style')['Review - Time'].min().reset_index()\n",
    "first_style_occurrence['FirstStyleTime'] = pd.to_datetime(first_style_occurrence['Review - Time'], unit='s').dt.strftime('%w-%m-%Y')\n",
    "\n",
    "# Count new BeerStyle categories for each time period\n",
    "# This gives the number of new beer styles introduced in each time period\n",
    "new_category_count = first_style_occurrence.groupby('FirstStyleTime').size().reset_index(name='NewCategory')\n",
    "\n",
    "# Merge this count with df3\n",
    "df3 = df3.merge(new_category_count, left_on='Time', right_on='FirstStyleTime', how='left')\n",
    "\n",
    "# Drop the extra FirstStyleTime column\n",
    "df3.drop('FirstStyleTime', axis=1, inplace=True)\n",
    "\n",
    "# Handle missing data (if there are time periods with no new categories)\n",
    "df3['NewCategory'].fillna(0, inplace=True)\n",
    "df3['NewCategory'] = df3['NewCategory'].apply(lambda x: 1 if x != 0 else 0)\n",
    "\n",
    "print(\"column NewCategory was sucesfully created\")"
   ]
  },
  {
   "cell_type": "code",
   "execution_count": 431,
   "metadata": {},
   "outputs": [
    {
     "name": "stdout",
     "output_type": "stream",
     "text": [
      "Progress: 100/5409\n",
      "Progress: 200/5409\n",
      "Progress: 300/5409\n",
      "Progress: 400/5409\n",
      "Progress: 500/5409\n",
      "Progress: 600/5409\n",
      "Progress: 700/5409\n",
      "Progress: 800/5409\n",
      "Progress: 900/5409\n",
      "Progress: 1000/5409\n",
      "Progress: 1100/5409\n",
      "Progress: 1200/5409\n",
      "Progress: 1300/5409\n",
      "Progress: 1400/5409\n",
      "Progress: 1500/5409\n",
      "Progress: 1600/5409\n",
      "Progress: 1700/5409\n",
      "Progress: 1800/5409\n",
      "Progress: 1900/5409\n",
      "Progress: 2000/5409\n",
      "Progress: 2100/5409\n",
      "Progress: 2200/5409\n",
      "Progress: 2300/5409\n",
      "Progress: 2400/5409\n",
      "Progress: 2500/5409\n",
      "Progress: 2600/5409\n",
      "Progress: 2700/5409\n",
      "Progress: 2800/5409\n",
      "Progress: 2900/5409\n",
      "Progress: 3000/5409\n",
      "Progress: 3100/5409\n",
      "Progress: 3200/5409\n",
      "Progress: 3300/5409\n",
      "Progress: 3400/5409\n",
      "Progress: 3500/5409\n",
      "Progress: 3600/5409\n",
      "Progress: 3700/5409\n",
      "Progress: 3800/5409\n",
      "Progress: 3900/5409\n",
      "Progress: 4000/5409\n",
      "Progress: 4100/5409\n",
      "Progress: 4200/5409\n",
      "Progress: 4300/5409\n",
      "Progress: 4400/5409\n",
      "Progress: 4500/5409\n",
      "Progress: 4600/5409\n",
      "Progress: 4700/5409\n",
      "Progress: 4800/5409\n",
      "Progress: 4900/5409\n",
      "Progress: 5000/5409\n",
      "Progress: 5100/5409\n",
      "Progress: 5200/5409\n",
      "Progress: 5300/5409\n",
      "Progress: 5400/5409\n",
      "column Imitation was sucesfully created\n",
      "100000\n",
      "   Brewer ID  Unnamed: 0       Time                    Beer Style  \\\n",
      "0       8481           0  4-09-2006  India Pale Ale &#40;IPA&#41;   \n",
      "1       8481           1  0-09-2006  India Pale Ale &#40;IPA&#41;   \n",
      "2       8481           2  5-05-2000             Bohemian Pilsener   \n",
      "3       8481           3  4-09-2006                        Kölsch   \n",
      "4       8481           4  4-09-2006                        Kölsch   \n",
      "\n",
      "   Rating First Digit  NewProduct FirstReviewTime  NewMarket  NewCategory  \\\n",
      "0                   1           1       4-09-2006          1            0   \n",
      "1                   1           1       0-09-2006          1            0   \n",
      "2                   1           1       5-05-2000          1            1   \n",
      "3                   8           1       4-09-2006          1            0   \n",
      "4                   8           1       4-09-2006          1            0   \n",
      "\n",
      "   Imitation  \n",
      "0        1.0  \n",
      "1        0.0  \n",
      "2        1.0  \n",
      "3        1.0  \n",
      "4        1.0  \n"
     ]
    }
   ],
   "source": [
    "########## Imitation Calculation\n",
    "\n",
    "# Filter df3 for new market entries\n",
    "new_market_entries = df3[df3['NewMarket'] > 0]\n",
    "\n",
    "# Adjust the grouping in `product_launches`\n",
    "product_launches = new_market_entries.groupby(['Beer Style', 'Time', 'Brewer ID']).size().reset_index(name='NewMarketEntryCount')\n",
    "\n",
    "# Define the total number of rows in the DataFrame\n",
    "total_rows = len(product_launches)\n",
    "\n",
    "# Set an interval for printing progress updates\n",
    "print_interval = 100  # Modify this number as needed\n",
    "\n",
    "def calculate_imitation(brewer_id, beer_style, time, product_launches_df):\n",
    "    time_window_start = datetime.strptime(time, '%w-%m-%Y') - relativedelta(months=3)\n",
    "    time_window_start_str = time_window_start.strftime('%w-%m-%Y')\n",
    "\n",
    "    competitor_launches = product_launches_df[\n",
    "        (product_launches_df['Beer Style'] == beer_style) & \n",
    "        (product_launches_df['Time'] >= time_window_start_str) &\n",
    "        (product_launches_df['Time'] < time) &\n",
    "        (product_launches_df['Brewer ID'] != brewer_id)\n",
    "    ]\n",
    "    return competitor_launches['NewMarketEntryCount'].sum()\n",
    "\n",
    "# Create a column for Imitation and print progress\n",
    "product_launches['Imitation'] = 0\n",
    "for index, row in product_launches.iterrows():\n",
    "    imitation_count = calculate_imitation(row['Brewer ID'], row['Beer Style'], row['Time'], product_launches)\n",
    "    product_launches.at[index, 'Imitation'] = 1 if imitation_count > 0 else 0\n",
    "    if (index + 1) % print_interval == 0:\n",
    "        print(f\"Progress: {index + 1}/{total_rows}\")\n",
    "\n",
    "# Merge the Imitation results back into df3\n",
    "df3 = df3.merge(product_launches[['Beer Style', 'Time', 'Brewer ID', 'Imitation']], \n",
    "                on=['Beer Style', 'Time', 'Brewer ID'], \n",
    "                how='left')\n",
    "\n",
    "print(\"column Imitation was sucesfully created\")\n",
    "print(len(df3))\n",
    "print(df3.head())"
   ]
  },
  {
   "cell_type": "code",
   "execution_count": 432,
   "metadata": {},
   "outputs": [
    {
     "name": "stdout",
     "output_type": "stream",
     "text": [
      "100000\n",
      "   Brewer ID  Unnamed: 0       Time                    Beer Style  \\\n",
      "0       8481           0  4-09-2006  India Pale Ale &#40;IPA&#41;   \n",
      "1       8481           1  0-09-2006  India Pale Ale &#40;IPA&#41;   \n",
      "2       8481           2  5-05-2000             Bohemian Pilsener   \n",
      "3       8481           3  4-09-2006                        Kölsch   \n",
      "4       8481           4  4-09-2006                        Kölsch   \n",
      "\n",
      "   Rating First Digit  NewProduct FirstReviewTime  NewMarket  NewCategory  \\\n",
      "0                   1           1       4-09-2006          1            0   \n",
      "1                   1           1       0-09-2006          1            0   \n",
      "2                   1           1       5-05-2000          1            1   \n",
      "3                   8           1       4-09-2006          1            0   \n",
      "4                   8           1       4-09-2006          1            0   \n",
      "\n",
      "   Imitation  \n",
      "0        1.0  \n",
      "1        0.0  \n",
      "2        1.0  \n",
      "3        1.0  \n",
      "4        1.0  \n"
     ]
    }
   ],
   "source": [
    "print(len(df3))\n",
    "print(df3.head())"
   ]
  },
  {
   "cell_type": "code",
   "execution_count": 435,
   "metadata": {},
   "outputs": [
    {
     "name": "stdout",
     "output_type": "stream",
     "text": [
      "Processing row 10 out of 100000\n",
      "Processing row 20 out of 100000\n"
     ]
    },
    {
     "ename": "KeyboardInterrupt",
     "evalue": "",
     "output_type": "error",
     "traceback": [
      "\u001b[0;31m---------------------------------------------------------------------------\u001b[0m",
      "\u001b[0;31mKeyboardInterrupt\u001b[0m                         Traceback (most recent call last)",
      "\u001b[1;32m/Users/bruno/Documents/Statistical_Analyst_Products/script.ipynb Cell 17\u001b[0m line \u001b[0;36m6\n\u001b[1;32m     <a href='vscode-notebook-cell:/Users/bruno/Documents/Statistical_Analyst_Products/script.ipynb#X31sZmlsZQ%3D%3D?line=56'>57</a>\u001b[0m     \u001b[39mreturn\u001b[39;00m \u001b[39m0\u001b[39m\n\u001b[1;32m     <a href='vscode-notebook-cell:/Users/bruno/Documents/Statistical_Analyst_Products/script.ipynb#X31sZmlsZQ%3D%3D?line=58'>59</a>\u001b[0m \u001b[39m# Apply the function to create the 'Negative Performance - Dummy' column in df3\u001b[39;00m\n\u001b[0;32m---> <a href='vscode-notebook-cell:/Users/bruno/Documents/Statistical_Analyst_Products/script.ipynb#X31sZmlsZQ%3D%3D?line=59'>60</a>\u001b[0m df3[\u001b[39m'\u001b[39m\u001b[39mNegativePerformanceD\u001b[39m\u001b[39m'\u001b[39m] \u001b[39m=\u001b[39m df3\u001b[39m.\u001b[39;49mapply(\u001b[39mlambda\u001b[39;49;00m row: check_negative_performance(row, df, df3), axis\u001b[39m=\u001b[39;49m\u001b[39m1\u001b[39;49m)\n\u001b[1;32m     <a href='vscode-notebook-cell:/Users/bruno/Documents/Statistical_Analyst_Products/script.ipynb#X31sZmlsZQ%3D%3D?line=61'>62</a>\u001b[0m \u001b[39mprint\u001b[39m(\u001b[39mf\u001b[39m\u001b[39m\"\u001b[39m\u001b[39mColumn NegativePerformanceD was successfully created. Total rows processed: \u001b[39m\u001b[39m{\u001b[39;00mtotal_rows\u001b[39m}\u001b[39;00m\u001b[39m\"\u001b[39m)\n",
      "File \u001b[0;32m~/Library/Caches/pypoetry/virtualenvs/statistical-analyst-products-RRF8KB7s-py3.10/lib/python3.10/site-packages/pandas/core/frame.py:10034\u001b[0m, in \u001b[0;36mDataFrame.apply\u001b[0;34m(self, func, axis, raw, result_type, args, by_row, **kwargs)\u001b[0m\n\u001b[1;32m  10022\u001b[0m \u001b[39mfrom\u001b[39;00m \u001b[39mpandas\u001b[39;00m\u001b[39m.\u001b[39;00m\u001b[39mcore\u001b[39;00m\u001b[39m.\u001b[39;00m\u001b[39mapply\u001b[39;00m \u001b[39mimport\u001b[39;00m frame_apply\n\u001b[1;32m  10024\u001b[0m op \u001b[39m=\u001b[39m frame_apply(\n\u001b[1;32m  10025\u001b[0m     \u001b[39mself\u001b[39m,\n\u001b[1;32m  10026\u001b[0m     func\u001b[39m=\u001b[39mfunc,\n\u001b[0;32m   (...)\u001b[0m\n\u001b[1;32m  10032\u001b[0m     kwargs\u001b[39m=\u001b[39mkwargs,\n\u001b[1;32m  10033\u001b[0m )\n\u001b[0;32m> 10034\u001b[0m \u001b[39mreturn\u001b[39;00m op\u001b[39m.\u001b[39;49mapply()\u001b[39m.\u001b[39m__finalize__(\u001b[39mself\u001b[39m, method\u001b[39m=\u001b[39m\u001b[39m\"\u001b[39m\u001b[39mapply\u001b[39m\u001b[39m\"\u001b[39m)\n",
      "File \u001b[0;32m~/Library/Caches/pypoetry/virtualenvs/statistical-analyst-products-RRF8KB7s-py3.10/lib/python3.10/site-packages/pandas/core/apply.py:837\u001b[0m, in \u001b[0;36mFrameApply.apply\u001b[0;34m(self)\u001b[0m\n\u001b[1;32m    834\u001b[0m \u001b[39melif\u001b[39;00m \u001b[39mself\u001b[39m\u001b[39m.\u001b[39mraw:\n\u001b[1;32m    835\u001b[0m     \u001b[39mreturn\u001b[39;00m \u001b[39mself\u001b[39m\u001b[39m.\u001b[39mapply_raw()\n\u001b[0;32m--> 837\u001b[0m \u001b[39mreturn\u001b[39;00m \u001b[39mself\u001b[39;49m\u001b[39m.\u001b[39;49mapply_standard()\n",
      "File \u001b[0;32m~/Library/Caches/pypoetry/virtualenvs/statistical-analyst-products-RRF8KB7s-py3.10/lib/python3.10/site-packages/pandas/core/apply.py:965\u001b[0m, in \u001b[0;36mFrameApply.apply_standard\u001b[0;34m(self)\u001b[0m\n\u001b[1;32m    964\u001b[0m \u001b[39mdef\u001b[39;00m \u001b[39mapply_standard\u001b[39m(\u001b[39mself\u001b[39m):\n\u001b[0;32m--> 965\u001b[0m     results, res_index \u001b[39m=\u001b[39m \u001b[39mself\u001b[39;49m\u001b[39m.\u001b[39;49mapply_series_generator()\n\u001b[1;32m    967\u001b[0m     \u001b[39m# wrap results\u001b[39;00m\n\u001b[1;32m    968\u001b[0m     \u001b[39mreturn\u001b[39;00m \u001b[39mself\u001b[39m\u001b[39m.\u001b[39mwrap_results(results, res_index)\n",
      "File \u001b[0;32m~/Library/Caches/pypoetry/virtualenvs/statistical-analyst-products-RRF8KB7s-py3.10/lib/python3.10/site-packages/pandas/core/apply.py:981\u001b[0m, in \u001b[0;36mFrameApply.apply_series_generator\u001b[0;34m(self)\u001b[0m\n\u001b[1;32m    978\u001b[0m \u001b[39mwith\u001b[39;00m option_context(\u001b[39m\"\u001b[39m\u001b[39mmode.chained_assignment\u001b[39m\u001b[39m\"\u001b[39m, \u001b[39mNone\u001b[39;00m):\n\u001b[1;32m    979\u001b[0m     \u001b[39mfor\u001b[39;00m i, v \u001b[39min\u001b[39;00m \u001b[39menumerate\u001b[39m(series_gen):\n\u001b[1;32m    980\u001b[0m         \u001b[39m# ignore SettingWithCopy here in case the user mutates\u001b[39;00m\n\u001b[0;32m--> 981\u001b[0m         results[i] \u001b[39m=\u001b[39m \u001b[39mself\u001b[39;49m\u001b[39m.\u001b[39;49mfunc(v, \u001b[39m*\u001b[39;49m\u001b[39mself\u001b[39;49m\u001b[39m.\u001b[39;49margs, \u001b[39m*\u001b[39;49m\u001b[39m*\u001b[39;49m\u001b[39mself\u001b[39;49m\u001b[39m.\u001b[39;49mkwargs)\n\u001b[1;32m    982\u001b[0m         \u001b[39mif\u001b[39;00m \u001b[39misinstance\u001b[39m(results[i], ABCSeries):\n\u001b[1;32m    983\u001b[0m             \u001b[39m# If we have a view on v, we need to make a copy because\u001b[39;00m\n\u001b[1;32m    984\u001b[0m             \u001b[39m#  series_generator will swap out the underlying data\u001b[39;00m\n\u001b[1;32m    985\u001b[0m             results[i] \u001b[39m=\u001b[39m results[i]\u001b[39m.\u001b[39mcopy(deep\u001b[39m=\u001b[39m\u001b[39mFalse\u001b[39;00m)\n",
      "\u001b[1;32m/Users/bruno/Documents/Statistical_Analyst_Products/script.ipynb Cell 17\u001b[0m line \u001b[0;36m6\n\u001b[1;32m     <a href='vscode-notebook-cell:/Users/bruno/Documents/Statistical_Analyst_Products/script.ipynb#X31sZmlsZQ%3D%3D?line=56'>57</a>\u001b[0m     \u001b[39mreturn\u001b[39;00m \u001b[39m0\u001b[39m\n\u001b[1;32m     <a href='vscode-notebook-cell:/Users/bruno/Documents/Statistical_Analyst_Products/script.ipynb#X31sZmlsZQ%3D%3D?line=58'>59</a>\u001b[0m \u001b[39m# Apply the function to create the 'Negative Performance - Dummy' column in df3\u001b[39;00m\n\u001b[0;32m---> <a href='vscode-notebook-cell:/Users/bruno/Documents/Statistical_Analyst_Products/script.ipynb#X31sZmlsZQ%3D%3D?line=59'>60</a>\u001b[0m df3[\u001b[39m'\u001b[39m\u001b[39mNegativePerformanceD\u001b[39m\u001b[39m'\u001b[39m] \u001b[39m=\u001b[39m df3\u001b[39m.\u001b[39mapply(\u001b[39mlambda\u001b[39;00m row: check_negative_performance(row, df, df3), axis\u001b[39m=\u001b[39m\u001b[39m1\u001b[39m)\n\u001b[1;32m     <a href='vscode-notebook-cell:/Users/bruno/Documents/Statistical_Analyst_Products/script.ipynb#X31sZmlsZQ%3D%3D?line=61'>62</a>\u001b[0m \u001b[39mprint\u001b[39m(\u001b[39mf\u001b[39m\u001b[39m\"\u001b[39m\u001b[39mColumn NegativePerformanceD was successfully created. Total rows processed: \u001b[39m\u001b[39m{\u001b[39;00mtotal_rows\u001b[39m}\u001b[39;00m\u001b[39m\"\u001b[39m)\n",
      "\u001b[1;32m/Users/bruno/Documents/Statistical_Analyst_Products/script.ipynb Cell 17\u001b[0m line \u001b[0;36m5\n\u001b[1;32m     <a href='vscode-notebook-cell:/Users/bruno/Documents/Statistical_Analyst_Products/script.ipynb#X31sZmlsZQ%3D%3D?line=50'>51</a>\u001b[0m \u001b[39mfor\u001b[39;00m _, competitor_row \u001b[39min\u001b[39;00m competitor_launches\u001b[39m.\u001b[39miterrows():\n\u001b[1;32m     <a href='vscode-notebook-cell:/Users/bruno/Documents/Statistical_Analyst_Products/script.ipynb#X31sZmlsZQ%3D%3D?line=51'>52</a>\u001b[0m     \u001b[39mif\u001b[39;00m row[\u001b[39m'\u001b[39m\u001b[39mBeer Style\u001b[39m\u001b[39m'\u001b[39m] \u001b[39m==\u001b[39m competitor_row[\u001b[39m'\u001b[39m\u001b[39mBeer Style\u001b[39m\u001b[39m'\u001b[39m] \u001b[39mand\u001b[39;00m \\\n\u001b[1;32m     <a href='vscode-notebook-cell:/Users/bruno/Documents/Statistical_Analyst_Products/script.ipynb#X31sZmlsZQ%3D%3D?line=52'>53</a>\u001b[0m        row[\u001b[39m'\u001b[39m\u001b[39mRating First Digit\u001b[39m\u001b[39m'\u001b[39m] \u001b[39m==\u001b[39m competitor_row[\u001b[39m'\u001b[39m\u001b[39mRating First Digit\u001b[39m\u001b[39m'\u001b[39m]:\n\u001b[0;32m---> <a href='vscode-notebook-cell:/Users/bruno/Documents/Statistical_Analyst_Products/script.ipynb#X31sZmlsZQ%3D%3D?line=53'>54</a>\u001b[0m         \u001b[39mif\u001b[39;00m is_rating_declining(df3, row[\u001b[39m'\u001b[39;49m\u001b[39mBrewer ID\u001b[39;49m\u001b[39m'\u001b[39;49m], row[\u001b[39m'\u001b[39;49m\u001b[39mBeer Style\u001b[39;49m\u001b[39m'\u001b[39;49m], review_date):\n\u001b[1;32m     <a href='vscode-notebook-cell:/Users/bruno/Documents/Statistical_Analyst_Products/script.ipynb#X31sZmlsZQ%3D%3D?line=54'>55</a>\u001b[0m             \u001b[39mreturn\u001b[39;00m \u001b[39m1\u001b[39m\n\u001b[1;32m     <a href='vscode-notebook-cell:/Users/bruno/Documents/Statistical_Analyst_Products/script.ipynb#X31sZmlsZQ%3D%3D?line=56'>57</a>\u001b[0m \u001b[39mreturn\u001b[39;00m \u001b[39m0\u001b[39m\n",
      "\u001b[1;32m/Users/bruno/Documents/Statistical_Analyst_Products/script.ipynb Cell 17\u001b[0m line \u001b[0;36m1\n\u001b[1;32m     <a href='vscode-notebook-cell:/Users/bruno/Documents/Statistical_Analyst_Products/script.ipynb#X31sZmlsZQ%3D%3D?line=10'>11</a>\u001b[0m three_weeks_ago \u001b[39m=\u001b[39m review_date \u001b[39m-\u001b[39m relativedelta(weeks\u001b[39m=\u001b[39m\u001b[39m3\u001b[39m)\n\u001b[1;32m     <a href='vscode-notebook-cell:/Users/bruno/Documents/Statistical_Analyst_Products/script.ipynb#X31sZmlsZQ%3D%3D?line=12'>13</a>\u001b[0m \u001b[39m# Filter reviews for the same brewer and beer style within this period\u001b[39;00m\n\u001b[1;32m     <a href='vscode-notebook-cell:/Users/bruno/Documents/Statistical_Analyst_Products/script.ipynb#X31sZmlsZQ%3D%3D?line=13'>14</a>\u001b[0m past_reviews \u001b[39m=\u001b[39m df[\n\u001b[0;32m---> <a href='vscode-notebook-cell:/Users/bruno/Documents/Statistical_Analyst_Products/script.ipynb#X31sZmlsZQ%3D%3D?line=14'>15</a>\u001b[0m     (df[\u001b[39m'\u001b[39;49m\u001b[39mBrewer ID\u001b[39;49m\u001b[39m'\u001b[39;49m] \u001b[39m==\u001b[39;49m brewer_id) \u001b[39m&\u001b[39;49m\n\u001b[1;32m     <a href='vscode-notebook-cell:/Users/bruno/Documents/Statistical_Analyst_Products/script.ipynb#X31sZmlsZQ%3D%3D?line=15'>16</a>\u001b[0m     (df[\u001b[39m'\u001b[39;49m\u001b[39mBeer Style\u001b[39;49m\u001b[39m'\u001b[39;49m] \u001b[39m==\u001b[39;49m beer_style) \u001b[39m&\u001b[39;49m\n\u001b[1;32m     <a href='vscode-notebook-cell:/Users/bruno/Documents/Statistical_Analyst_Products/script.ipynb#X31sZmlsZQ%3D%3D?line=16'>17</a>\u001b[0m     (pd\u001b[39m.\u001b[39;49mto_datetime(df[\u001b[39m'\u001b[39;49m\u001b[39mTime\u001b[39;49m\u001b[39m'\u001b[39;49m], \u001b[39mformat\u001b[39;49m\u001b[39m=\u001b[39;49m\u001b[39m'\u001b[39;49m\u001b[39m%\u001b[39;49m\u001b[39mw-\u001b[39;49m\u001b[39m%\u001b[39;49m\u001b[39mm-\u001b[39;49m\u001b[39m%\u001b[39;49m\u001b[39mY\u001b[39;49m\u001b[39m'\u001b[39;49m) \u001b[39m>\u001b[39;49m\u001b[39m=\u001b[39;49m three_weeks_ago) \u001b[39m&\u001b[39;49m\n\u001b[1;32m     <a href='vscode-notebook-cell:/Users/bruno/Documents/Statistical_Analyst_Products/script.ipynb#X31sZmlsZQ%3D%3D?line=17'>18</a>\u001b[0m     (pd\u001b[39m.\u001b[39;49mto_datetime(df[\u001b[39m'\u001b[39;49m\u001b[39mTime\u001b[39;49m\u001b[39m'\u001b[39;49m], \u001b[39mformat\u001b[39;49m\u001b[39m=\u001b[39;49m\u001b[39m'\u001b[39;49m\u001b[39m%\u001b[39;49m\u001b[39mw-\u001b[39;49m\u001b[39m%\u001b[39;49m\u001b[39mm-\u001b[39;49m\u001b[39m%\u001b[39;49m\u001b[39mY\u001b[39;49m\u001b[39m'\u001b[39;49m) \u001b[39m<\u001b[39;49m review_date)\n\u001b[1;32m     <a href='vscode-notebook-cell:/Users/bruno/Documents/Statistical_Analyst_Products/script.ipynb#X31sZmlsZQ%3D%3D?line=18'>19</a>\u001b[0m ]\n\u001b[1;32m     <a href='vscode-notebook-cell:/Users/bruno/Documents/Statistical_Analyst_Products/script.ipynb#X31sZmlsZQ%3D%3D?line=20'>21</a>\u001b[0m \u001b[39mif\u001b[39;00m \u001b[39mnot\u001b[39;00m past_reviews\u001b[39m.\u001b[39mempty:\n\u001b[1;32m     <a href='vscode-notebook-cell:/Users/bruno/Documents/Statistical_Analyst_Products/script.ipynb#X31sZmlsZQ%3D%3D?line=21'>22</a>\u001b[0m     sorted_reviews \u001b[39m=\u001b[39m past_reviews\u001b[39m.\u001b[39msort_values(by\u001b[39m=\u001b[39m\u001b[39m'\u001b[39m\u001b[39mTime\u001b[39m\u001b[39m'\u001b[39m)\n",
      "File \u001b[0;32m~/Library/Caches/pypoetry/virtualenvs/statistical-analyst-products-RRF8KB7s-py3.10/lib/python3.10/site-packages/pandas/core/ops/common.py:76\u001b[0m, in \u001b[0;36m_unpack_zerodim_and_defer.<locals>.new_method\u001b[0;34m(self, other)\u001b[0m\n\u001b[1;32m     72\u001b[0m             \u001b[39mreturn\u001b[39;00m \u001b[39mNotImplemented\u001b[39m\n\u001b[1;32m     74\u001b[0m other \u001b[39m=\u001b[39m item_from_zerodim(other)\n\u001b[0;32m---> 76\u001b[0m \u001b[39mreturn\u001b[39;00m method(\u001b[39mself\u001b[39;49m, other)\n",
      "File \u001b[0;32m~/Library/Caches/pypoetry/virtualenvs/statistical-analyst-products-RRF8KB7s-py3.10/lib/python3.10/site-packages/pandas/core/arraylike.py:70\u001b[0m, in \u001b[0;36mOpsMixin.__and__\u001b[0;34m(self, other)\u001b[0m\n\u001b[1;32m     68\u001b[0m \u001b[39m@unpack_zerodim_and_defer\u001b[39m(\u001b[39m\"\u001b[39m\u001b[39m__and__\u001b[39m\u001b[39m\"\u001b[39m)\n\u001b[1;32m     69\u001b[0m \u001b[39mdef\u001b[39;00m \u001b[39m__and__\u001b[39m(\u001b[39mself\u001b[39m, other):\n\u001b[0;32m---> 70\u001b[0m     \u001b[39mreturn\u001b[39;00m \u001b[39mself\u001b[39;49m\u001b[39m.\u001b[39;49m_logical_method(other, operator\u001b[39m.\u001b[39;49mand_)\n",
      "File \u001b[0;32m~/Library/Caches/pypoetry/virtualenvs/statistical-analyst-products-RRF8KB7s-py3.10/lib/python3.10/site-packages/pandas/core/series.py:5815\u001b[0m, in \u001b[0;36mSeries._logical_method\u001b[0;34m(self, other, op)\u001b[0m\n\u001b[1;32m   5812\u001b[0m rvalues \u001b[39m=\u001b[39m extract_array(other, extract_numpy\u001b[39m=\u001b[39m\u001b[39mTrue\u001b[39;00m, extract_range\u001b[39m=\u001b[39m\u001b[39mTrue\u001b[39;00m)\n\u001b[1;32m   5814\u001b[0m res_values \u001b[39m=\u001b[39m ops\u001b[39m.\u001b[39mlogical_op(lvalues, rvalues, op)\n\u001b[0;32m-> 5815\u001b[0m \u001b[39mreturn\u001b[39;00m \u001b[39mself\u001b[39;49m\u001b[39m.\u001b[39;49m_construct_result(res_values, name\u001b[39m=\u001b[39;49mres_name)\n",
      "File \u001b[0;32m~/Library/Caches/pypoetry/virtualenvs/statistical-analyst-products-RRF8KB7s-py3.10/lib/python3.10/site-packages/pandas/core/series.py:5915\u001b[0m, in \u001b[0;36mSeries._construct_result\u001b[0;34m(self, result, name)\u001b[0m\n\u001b[1;32m   5912\u001b[0m \u001b[39m# TODO: result should always be ArrayLike, but this fails for some\u001b[39;00m\n\u001b[1;32m   5913\u001b[0m \u001b[39m#  JSONArray tests\u001b[39;00m\n\u001b[1;32m   5914\u001b[0m dtype \u001b[39m=\u001b[39m \u001b[39mgetattr\u001b[39m(result, \u001b[39m\"\u001b[39m\u001b[39mdtype\u001b[39m\u001b[39m\"\u001b[39m, \u001b[39mNone\u001b[39;00m)\n\u001b[0;32m-> 5915\u001b[0m out \u001b[39m=\u001b[39m \u001b[39mself\u001b[39;49m\u001b[39m.\u001b[39;49m_constructor(result, index\u001b[39m=\u001b[39;49m\u001b[39mself\u001b[39;49m\u001b[39m.\u001b[39;49mindex, dtype\u001b[39m=\u001b[39;49mdtype, copy\u001b[39m=\u001b[39;49m\u001b[39mFalse\u001b[39;49;00m)\n\u001b[1;32m   5916\u001b[0m out \u001b[39m=\u001b[39m out\u001b[39m.\u001b[39m__finalize__(\u001b[39mself\u001b[39m)\n\u001b[1;32m   5918\u001b[0m \u001b[39m# Set the result's name after __finalize__ is called because __finalize__\u001b[39;00m\n\u001b[1;32m   5919\u001b[0m \u001b[39m#  would set it back to self.name\u001b[39;00m\n",
      "\u001b[0;31mKeyboardInterrupt\u001b[0m: "
     ]
    }
   ],
   "source": [
    "from dateutil.relativedelta import relativedelta\n",
    "from datetime import datetime\n",
    "import pandas as pd\n",
    "\n",
    "def parse_custom_date(date_str):\n",
    "    # Extract the parts of the date\n",
    "    day_of_week, month, year = map(int, date_str.split('-'))\n",
    "    return datetime(year, month, 1)\n",
    "\n",
    "def is_rating_declining(df, brewer_id, beer_style, review_date):\n",
    "    three_weeks_ago = review_date - relativedelta(weeks=3)\n",
    "\n",
    "    # Filter reviews for the same brewer and beer style within this period\n",
    "    past_reviews = df[\n",
    "        (df['Brewer ID'] == brewer_id) &\n",
    "        (df['Beer Style'] == beer_style) &\n",
    "        (pd.to_datetime(df['Time'], format='%w-%m-%Y') >= three_weeks_ago) &\n",
    "        (pd.to_datetime(df['Time'], format='%w-%m-%Y') < review_date)\n",
    "    ]\n",
    "\n",
    "    if not past_reviews.empty:\n",
    "        sorted_reviews = past_reviews.sort_values(by='Time')\n",
    "        return sorted_reviews['Overall Review'].iloc[-1] < sorted_reviews['Overall Review'].iloc[0]\n",
    "    return False\n",
    "\n",
    "counter = 0\n",
    "total_rows = len(df3)  # Calculate total rows in df3\n",
    "\n",
    "def check_negative_performance(row, df, df3):\n",
    "    global counter\n",
    "    counter += 1\n",
    "\n",
    "    if counter % 10 == 0:\n",
    "        print(f\"Processing row {counter} out of {total_rows}\")\n",
    "\n",
    "    review_date = parse_custom_date(row['Time'])\n",
    "    month_start = review_date.replace(day=1)\n",
    "    month_end = month_start + relativedelta(months=1) - relativedelta(days=1)\n",
    "\n",
    "    # Identify competitor launches in the same month\n",
    "    competitor_launches = df[\n",
    "        (df['Brewer ID'] != row['Brewer ID']) &\n",
    "        (pd.to_datetime(df['Time'], format='%w-%m-%Y') >= month_start) &\n",
    "        (pd.to_datetime(df['Time'], format='%w-%m-%Y') <= month_end)\n",
    "    ]\n",
    "\n",
    "    if competitor_launches.empty:\n",
    "        return 0\n",
    "\n",
    "    # Check for shared 'Beer Style' and 'Rating First Digit'\n",
    "    for _, competitor_row in competitor_launches.iterrows():\n",
    "        if row['Beer Style'] == competitor_row['Beer Style'] and \\\n",
    "           row['Rating First Digit'] == competitor_row['Rating First Digit']:\n",
    "            if is_rating_declining(df3, row['Brewer ID'], row['Beer Style'], review_date):\n",
    "                return 1\n",
    "\n",
    "    return 0\n",
    "\n",
    "# Apply the function to create the 'Negative Performance - Dummy' column in df3\n",
    "df3['NegativePerformanceD'] = df3.apply(lambda row: check_negative_performance(row, df, df3), axis=1)\n",
    "\n",
    "print(f\"Column NegativePerformanceD was successfully created. Total rows processed: {total_rows}\")\n"
   ]
  },
  {
   "cell_type": "code",
   "execution_count": 436,
   "metadata": {},
   "outputs": [
    {
     "name": "stdout",
     "output_type": "stream",
     "text": [
      "100000\n",
      "   Brewer ID  Unnamed: 0       Time                    Beer Style  \\\n",
      "0       8481           0  4-09-2006  India Pale Ale &#40;IPA&#41;   \n",
      "1       8481           1  0-09-2006  India Pale Ale &#40;IPA&#41;   \n",
      "2       8481           2  5-05-2000             Bohemian Pilsener   \n",
      "3       8481           3  4-09-2006                        Kölsch   \n",
      "4       8481           4  4-09-2006                        Kölsch   \n",
      "\n",
      "   Rating First Digit  NewProduct FirstReviewTime  NewMarket  NewCategory  \\\n",
      "0                   1           1       4-09-2006          1            0   \n",
      "1                   1           1       0-09-2006          1            0   \n",
      "2                   1           1       5-05-2000          1            1   \n",
      "3                   8           1       4-09-2006          1            0   \n",
      "4                   8           1       4-09-2006          1            0   \n",
      "\n",
      "   Imitation  \n",
      "0        1.0  \n",
      "1        0.0  \n",
      "2        1.0  \n",
      "3        1.0  \n",
      "4        1.0  \n"
     ]
    }
   ],
   "source": [
    "print(len(df3))\n",
    "print(df3.head())"
   ]
  },
  {
   "cell_type": "code",
   "execution_count": null,
   "metadata": {},
   "outputs": [],
   "source": [
    "########## Negative performance - continuous\n",
    "\n",
    "# Merge 'Review - Overall' from df into df3\n",
    "df3 = df3.merge(df[['Brewer ID', 'Time', 'Review - Overall']], \n",
    "                on=['Brewer ID', 'Time'], \n",
    "                how='left')\n",
    "\n",
    "def calculate_competitors_average_rating(df, df3, review_date, beer_style, brewer_id):\n",
    "   \n",
    "    # Identify competitors who launched new market in the same month\n",
    "    month_start = review_date.replace(day=1)\n",
    "    month_end = month_start + relativedelta(months=1) - relativedelta(days=1)\n",
    "\n",
    "    competitor_ids = df3[\n",
    "        (df3['Time'].apply(lambda x: month_start <= datetime.strptime(x, '%w-%m-%Y') <= month_end)) &\n",
    "        (df3['NewMarket'] == 1) &\n",
    "        (df3['Brewer ID'] != brewer_id)\n",
    "    ]['BrewerID'].unique()\n",
    "\n",
    "    # Calculate the average 'Review - Overall' rating of these new products by competitors\n",
    "    if competitor_ids.size > 0:\n",
    "        competitor_new_products = df[\n",
    "            (df['Brewer ID'].isin(competitor_ids)) &\n",
    "            (df['Beer Style'] == beer_style) &\n",
    "            (pd.to_datetime(df['Time'], format='%w-%m-%Y') <= review_date)\n",
    "        ]\n",
    "        if not competitor_new_products.empty:\n",
    "            return competitor_new_products['Review - Overall'].mean()\n",
    "    return 0\n",
    "\n",
    "counter = 0  # Initialize counter\n",
    "total_rows = len(df3)  # Total number of rows in df3\n",
    "\n",
    "def calculate_negative_performance(row, df, df3):\n",
    "    global counter\n",
    "    counter += 1\n",
    "\n",
    "    if counter % 10 == 0:\n",
    "        print(f\"Processing row {counter} out of {total_rows}\")\n",
    "\n",
    "    review_date = datetime.strptime(row['Time'], '%w-%m-%Y')\n",
    "    # Remaining code for this function...\n",
    "\n",
    "# Apply the function to create the 'Negative Performance' column in df3\n",
    "df3['NegativePerformanceC'] = df3.apply(lambda row: calculate_negative_performance(row, df, df3), axis=1)\n",
    "\n",
    "print(f\"Column NegativePerformanceC was successfully created. Total rows processed: {total_rows}\")\n",
    "\n"
   ]
  },
  {
   "cell_type": "code",
   "execution_count": null,
   "metadata": {},
   "outputs": [],
   "source": [
    "########## CompetitorPosition\n",
    "\n",
    "def calculate_competitors_average_rating_for_position(df, review_date, beer_style, brewer_id):\n",
    "    # Calculate the average 'Review - Overall' rating of competitors up to the current review date\n",
    "    competitor_ratings = df[\n",
    "        (df['Brewer ID'] != brewer_id) &\n",
    "        (df['Beer Style'] == beer_style) &\n",
    "        (pd.to_datetime(df['Time'], format='%w-%m-%Y') <= review_date)\n",
    "    ]\n",
    "\n",
    "    if not competitor_ratings.empty:\n",
    "        # Ensure 'Review - Overall' is treated as a numeric value\n",
    "        competitor_ratings['Review - Overall'] = pd.to_numeric(competitor_ratings['Review - Overall'], errors='coerce')\n",
    "        return competitor_ratings['Review - Overall'].mean()\n",
    "    return 0\n",
    "\n",
    "def calculate_competitor_position(row, df):\n",
    "    review_date = datetime.strptime(row['Time'], '%w-%m-%Y')\n",
    "\n",
    "    # Calculate competitor's average rating\n",
    "    competitors_avg_rating = calculate_competitors_average_rating_for_position(df, review_date, row['Beer Style'], row['Brewer ID'])\n",
    "\n",
    "    # Ensure 'Review - Overall' in df3 is numeric\n",
    "    focal_firm_rating = pd.to_numeric(row['Review - Overall'], errors='coerce')\n",
    "\n",
    "    # Compare competitor's average rating with the focal firm's rating\n",
    "    return 1 if competitors_avg_rating > focal_firm_rating else 0\n",
    "\n",
    "# Apply the function to create the 'CompetitorPosition' column in df3\n",
    "df3['CompetitorPosition'] = df3.apply(lambda row: calculate_competitor_position(row, df), axis=1)\n",
    "\n",
    "\n",
    "print(\"column CompetitorPosition was sucesfully created\")\n",
    "\n",
    "########## MRank \n",
    "########## SDRank \n",
    "########## Competition \n",
    "########## Portfolio \n",
    "########## ABV \n",
    "########## Diversification \n",
    "########## Tenure \n",
    "########## Experience \n",
    "########## Popularity "
   ]
  },
  {
   "cell_type": "code",
   "execution_count": null,
   "metadata": {},
   "outputs": [
    {
     "name": "stdout",
     "output_type": "stream",
     "text": [
      "   BrewerID       Time  NewProduct  NewMarket  NewCategory  Imitation  \\\n",
      "0      8481  4-09-2006           1          1            1          0   \n",
      "1      8481  4-09-2006           1          1            1          0   \n",
      "2      8481  4-09-2006           1          1            1          0   \n",
      "3      8481  4-09-2006           1          1            1          0   \n",
      "4      8481  4-09-2006           1          1            1          0   \n",
      "\n",
      "   NegativePerformanceD  NegativePerformanceC  CompetitorPosition  \n",
      "0                     0                     0                   0  \n",
      "1                     0                     0                   0  \n",
      "2                     0                     0                   0  \n",
      "3                     0                     0                   0  \n",
      "4                     0                     0                   0  \n"
     ]
    }
   ],
   "source": [
    "columns_to_keep = [\n",
    "    'Brewer ID', \n",
    "    'Time', \n",
    "    'NewProduct', \n",
    "    'NewMarket', \n",
    "    'NewCategory', \n",
    "    'Imitation', \n",
    "    'NegativePerformanceD', \n",
    "    'NegativePerformanceC', \n",
    "    'CompetitorPosition'\n",
    "]\n",
    "\n",
    "df3 = df3[columns_to_keep]\n",
    "\n",
    "print(df3.head())\n"
   ]
  }
 ],
 "metadata": {
  "kernelspec": {
   "display_name": "Python 3",
   "language": "python",
   "name": "python3"
  },
  "language_info": {
   "codemirror_mode": {
    "name": "ipython",
    "version": 3
   },
   "file_extension": ".py",
   "mimetype": "text/x-python",
   "name": "python",
   "nbconvert_exporter": "python",
   "pygments_lexer": "ipython3",
   "version": "3.10.13"
  },
  "orig_nbformat": 4
 },
 "nbformat": 4,
 "nbformat_minor": 2
}
