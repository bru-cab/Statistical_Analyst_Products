{
 "cells": [
  {
   "cell_type": "code",
   "execution_count": 388,
   "metadata": {},
   "outputs": [
    {
     "name": "stderr",
     "output_type": "stream",
     "text": [
      "/var/folders/88/g84kk_9n2498jwvfh8mnxj8w0000gn/T/ipykernel_96284/2282718759.py:7: DtypeWarning: Columns (2,4,6,7,8,9,10) have mixed types. Specify dtype option on import or set low_memory=False.\n",
      "  df = pd.read_csv(file_path)\n"
     ]
    },
    {
     "name": "stdout",
     "output_type": "stream",
     "text": [
      "         Unnamed: 0                                Name Beer ID  Brewer ID  \\\n",
      "1586614           0            John Harvards Simcoe IPA   63836       8481   \n",
      "1586615           1            John Harvards Simcoe IPA   63836       8481   \n",
      "1586616           2       John Harvards Cristal Pilsner   71716       8481   \n",
      "1586617           3  John Harvards Fancy Lawnmower Beer   64125       8481   \n",
      "1586618           4  John Harvards Fancy Lawnmower Beer   64125       8481   \n",
      "\n",
      "         ABV                    Beer Style Review - Appearance Review - Aroma  \\\n",
      "1586614  5.4  India Pale Ale &#40;IPA&#41;                 4/5           6/10   \n",
      "1586615  5.4  India Pale Ale &#40;IPA&#41;                 4/5           6/10   \n",
      "1586616    5             Bohemian Pilsener                 4/5           5/10   \n",
      "1586617  5.4                        Kölsch                 2/5           4/10   \n",
      "1586618  5.4                        Kölsch                 2/5           4/10   \n",
      "\n",
      "        Review - Palate Review - Taste Review - Overall  Review - Time  \\\n",
      "1586614             3/5           6/10            13/20     1157587200   \n",
      "1586615             4/5           7/10            13/20     1157241600   \n",
      "1586616             3/5           6/10            14/20      958694400   \n",
      "1586617             2/5           4/10             8/20     1157587200   \n",
      "1586618             2/5           4/10             8/20     1157587200   \n",
      "\n",
      "        Review - Profile Name  \\\n",
      "1586614                hopdog   \n",
      "1586615          TomDecapolis   \n",
      "1586616        PhillyBeer2112   \n",
      "1586617          TomDecapolis   \n",
      "1586618                hopdog   \n",
      "\n",
      "                                             Review - Text File Name  \\\n",
      "1586614  On tap at the Springfield, PA location. Poured...  ratebeer   \n",
      "1586615  On tap at the John Harvards in Springfield PA....  ratebeer   \n",
      "1586616  UPDATED: FEB 19, 2003 Springfield, PA. I've ne...  ratebeer   \n",
      "1586617  On tap the Springfield PA location billed as t...  ratebeer   \n",
      "1586618  On tap at the Springfield, PA location. Poured...  ratebeer   \n",
      "\n",
      "              Time  Rating First Digit  \n",
      "1586614  4-09-2006                   1  \n",
      "1586615  0-09-2006                   1  \n",
      "1586616  5-05-2000                   1  \n",
      "1586617  4-09-2006                   8  \n",
      "1586618  4-09-2006                   8  \n"
     ]
    }
   ],
   "source": [
    "import pandas as pd\n",
    "\n",
    "# Replace 'your_file.csv' with the path to your CSV file\n",
    "file_path = '/Users/bruno/Documents/Statistical_Analyst_Products/combined_ratings.csv'\n",
    "\n",
    "# Read the CSV file\n",
    "df = pd.read_csv(file_path)\n",
    "df['Time'] = pd.to_datetime(df['Review - Time'], unit='s').dt.strftime('%w-%m-%Y')\n",
    "df['Rating First Digit'] = df['Review - Overall'].astype(str).str[0].astype(int)\n",
    "df = df[df['File Name'].str.contains(\"RateBeer\", case=False)]\n",
    "\n",
    "# Print the first few rows of the DataFrame\n",
    "print(df.head())"
   ]
  },
  {
   "cell_type": "code",
   "execution_count": 389,
   "metadata": {},
   "outputs": [
    {
     "name": "stdout",
     "output_type": "stream",
     "text": [
      "2924163\n"
     ]
    }
   ],
   "source": [
    "#print(len(df)) #4.5M using both Filenames\n",
    "print(len(df)) #2.9 using only RateBeer"
   ]
  },
  {
   "cell_type": "code",
   "execution_count": 390,
   "metadata": {},
   "outputs": [
    {
     "name": "stdout",
     "output_type": "stream",
     "text": [
      "1000\n",
      "Index(['Unnamed: 0', 'Name', 'Beer ID', 'Brewer ID', 'ABV', 'Beer Style',\n",
      "       'Review - Appearance', 'Review - Aroma', 'Review - Palate',\n",
      "       'Review - Taste', 'Review - Overall', 'Review - Time',\n",
      "       'Review - Profile Name', 'Review - Text', 'File Name', 'Time',\n",
      "       'Rating First Digit'],\n",
      "      dtype='object')\n"
     ]
    }
   ],
   "source": [
    "df = df.head(1000)\n",
    "print(len(df)) #2.9 using only RateBeer\n",
    "print(df.columns)"
   ]
  },
  {
   "cell_type": "code",
   "execution_count": 391,
   "metadata": {},
   "outputs": [
    {
     "name": "stdout",
     "output_type": "stream",
     "text": [
      "        Review - Overall  Review - Overall Decimal\n",
      "1586614            13/20                      0.65\n",
      "1586615            13/20                      0.65\n",
      "1586616            14/20                      0.70\n",
      "1586617             8/20                      0.40\n",
      "1586618             8/20                      0.40\n"
     ]
    }
   ],
   "source": [
    "def convert_to_decimal(review_str):\n",
    "    try:\n",
    "        numerator, denominator = map(float, review_str.split('/'))\n",
    "        return numerator / denominator if denominator != 0 else 0\n",
    "    except ValueError:\n",
    "        # Handle cases where the review string is not in the expected format\n",
    "        return None\n",
    "\n",
    "# Apply this function to the 'Review - Overall' column\n",
    "df['Review - Overall Decimal'] = df['Review - Overall'].apply(convert_to_decimal)\n",
    "\n",
    "# Check the first few rows to verify the transformation\n",
    "print(df[['Review - Overall', 'Review - Overall Decimal']].head())"
   ]
  },
  {
   "cell_type": "code",
   "execution_count": 392,
   "metadata": {},
   "outputs": [],
   "source": [
    "import pandas as pd\n",
    "from dateutil.relativedelta import relativedelta\n",
    "from datetime import datetime, timedelta"
   ]
  },
  {
   "cell_type": "code",
   "execution_count": 393,
   "metadata": {},
   "outputs": [
    {
     "name": "stdout",
     "output_type": "stream",
     "text": [
      "         Brewer ID  Unnamed: 0       Time                    Beer Style  \\\n",
      "1586614       8481           0  4-09-2006  India Pale Ale &#40;IPA&#41;   \n",
      "1586615       8481           1  0-09-2006  India Pale Ale &#40;IPA&#41;   \n",
      "1586616       8481           2  5-05-2000             Bohemian Pilsener   \n",
      "1586617       8481           3  4-09-2006                        Kölsch   \n",
      "1586618       8481           4  4-09-2006                        Kölsch   \n",
      "\n",
      "         Rating First Digit  Review - Overall Beer ID  ABV  \n",
      "1586614                   1              0.65   63836  5.4  \n",
      "1586615                   1              0.65   63836  5.4  \n",
      "1586616                   1              0.70   71716    5  \n",
      "1586617                   8              0.40   64125  5.4  \n",
      "1586618                   8              0.40   64125  5.4  \n",
      "1000\n"
     ]
    }
   ],
   "source": [
    "########## BrewerID & aux variables\n",
    "df3 = pd.DataFrame(df['Brewer ID'])\n",
    "df3['Unnamed: 0'] = df['Unnamed: 0']\n",
    "df3['Time'] = df['Time']\n",
    "df3['Beer Style'] = df['Beer Style']\n",
    "df3['Rating First Digit'] = df['Rating First Digit']\n",
    "df3['Review - Overall'] = df['Review - Overall Decimal']\n",
    "df3['Beer ID'] = df['Beer ID']\n",
    "df3['ABV'] = df['ABV']\n",
    "\n",
    "\n",
    "print(df3.head())\n",
    "print(len(df3))"
   ]
  },
  {
   "cell_type": "code",
   "execution_count": 394,
   "metadata": {},
   "outputs": [
    {
     "name": "stdout",
     "output_type": "stream",
     "text": [
      "column Time was sucesfully created\n",
      "         Brewer ID  Unnamed: 0       Time                    Beer Style  \\\n",
      "1586614       8481           0  4-09-2006  India Pale Ale &#40;IPA&#41;   \n",
      "1586615       8481           1  0-09-2006  India Pale Ale &#40;IPA&#41;   \n",
      "1586616       8481           2  5-05-2000             Bohemian Pilsener   \n",
      "1586617       8481           3  4-09-2006                        Kölsch   \n",
      "1586618       8481           4  4-09-2006                        Kölsch   \n",
      "\n",
      "         Rating First Digit  Review - Overall Beer ID  ABV  \n",
      "1586614                   1              0.65   63836  5.4  \n",
      "1586615                   1              0.65   63836  5.4  \n",
      "1586616                   1              0.70   71716    5  \n",
      "1586617                   8              0.40   64125  5.4  \n",
      "1586618                   8              0.40   64125  5.4  \n",
      "1000\n"
     ]
    }
   ],
   "source": [
    "########## Time\n",
    "# The format '%w-%m-%Y' represents the day of the week, month, and year\n",
    "df3['Time'] = pd.to_datetime(df['Review - Time'], unit='s').dt.strftime('%w-%m-%Y')\n",
    "\n",
    "print(\"column Time was sucesfully created\")\n",
    "print(df3.head())\n",
    "print(len(df3))"
   ]
  },
  {
   "cell_type": "code",
   "execution_count": 395,
   "metadata": {},
   "outputs": [
    {
     "name": "stdout",
     "output_type": "stream",
     "text": [
      "   Beer ID  Review - Time\n",
      "0     1470      958694400\n",
      "1     7721      990576000\n",
      "2    19690     1058313600\n",
      "3    19691     1058313600\n",
      "4    19692     1058313600\n",
      "   Beer ID  Review - Time FirstReviewTime\n",
      "0     1470      958694400       5-05-2000\n",
      "1     7721      990576000       3-05-2001\n",
      "2    19690     1058313600       3-07-2003\n",
      "3    19691     1058313600       3-07-2003\n",
      "4    19692     1058313600       3-07-2003\n",
      "    Beer ID  Review - Time FirstReviewTime  Brewer ID  \\\n",
      "0      1470      958694400       5-05-2000       8481   \n",
      "1      7721      990576000       3-05-2001       8481   \n",
      "2     19690     1058313600       3-07-2003       3228   \n",
      "125   19691     1058313600       3-07-2003       3228   \n",
      "158   19692     1058313600       3-07-2003       3228   \n",
      "\n",
      "                          Beer Style  \n",
      "0    Belgian White &#40;Witbier&#41;  \n",
      "1                           Mild Ale  \n",
      "2                          Brown Ale  \n",
      "125                American Pale Ale  \n",
      "158                           Porter  \n",
      "1000\n"
     ]
    }
   ],
   "source": [
    "########## NewProduct Calculation\n",
    "# Find the first review date for each product ('Beer ID') in the original DataFrame\n",
    "first_review = df.groupby('Beer ID')['Review - Time'].min().reset_index()\n",
    "print(first_review.head())\n",
    "\n",
    "first_review['FirstReviewTime'] = pd.to_datetime(first_review['Review - Time'], unit='s').dt.strftime('%w-%m-%Y')\n",
    "\n",
    "print(first_review.head())\n",
    "\n",
    "# Merge the first review dates with the 'Beer ID', 'Brewer ID', and 'Beer Style' from the original DataFrame\n",
    "# This associates each first review with its corresponding product and brewer\n",
    "# 'drop_duplicates' is used to ensure each 'Beer ID' is only counted once\n",
    "first_review = first_review.merge(df[['Beer ID', 'Brewer ID', 'Beer Style']], on='Beer ID', how='left').drop_duplicates('Beer ID')\n",
    "\n",
    "print(first_review.head())\n",
    "print(len(df3))"
   ]
  },
  {
   "cell_type": "code",
   "execution_count": 396,
   "metadata": {},
   "outputs": [
    {
     "name": "stdout",
     "output_type": "stream",
     "text": [
      "aca\n",
      "   Brewer ID FirstReviewTime  NewProduct\n",
      "0       3228       0-01-2009           1\n",
      "1       3228       0-08-2010           1\n",
      "2       3228       0-09-2010           1\n",
      "3       3228       1-02-2006           1\n",
      "4       3228       1-03-2009           1\n"
     ]
    }
   ],
   "source": [
    "# Count new products for each 'Brewer ID' in each time period\n",
    "# This gives the number of new products introduced by each brewer in each time period\n",
    "new_product_count = first_review.groupby(['Brewer ID', 'FirstReviewTime']).size().reset_index(name='NewProduct')\n",
    "print(\"aca\")\n",
    "print(new_product_count.head())"
   ]
  },
  {
   "cell_type": "code",
   "execution_count": 397,
   "metadata": {},
   "outputs": [
    {
     "name": "stdout",
     "output_type": "stream",
     "text": [
      "column NewProduct was sucesfully created\n",
      "   Brewer ID  Unnamed: 0       Time                    Beer Style  \\\n",
      "0       8481           0  4-09-2006  India Pale Ale &#40;IPA&#41;   \n",
      "1       8481           1  0-09-2006  India Pale Ale &#40;IPA&#41;   \n",
      "2       8481           2  5-05-2000             Bohemian Pilsener   \n",
      "3       8481           3  4-09-2006                        Kölsch   \n",
      "4       8481           4  4-09-2006                        Kölsch   \n",
      "\n",
      "   Rating First Digit  Review - Overall Beer ID  ABV FirstReviewTime  \\\n",
      "0                   1              0.65   63836  5.4       4-09-2006   \n",
      "1                   1              0.65   63836  5.4       0-09-2006   \n",
      "2                   1              0.70   71716    5       5-05-2000   \n",
      "3                   8              0.40   64125  5.4       4-09-2006   \n",
      "4                   8              0.40   64125  5.4       4-09-2006   \n",
      "\n",
      "   NewProduct  \n",
      "0           1  \n",
      "1           1  \n",
      "2           1  \n",
      "3           1  \n",
      "4           1  \n"
     ]
    }
   ],
   "source": [
    "# Merge the new product count with df3, matching on both 'BrewerID' and 'Time'\n",
    "df3 = df3.merge(new_product_count, left_on=['Brewer ID', 'Time'], right_on=['Brewer ID', 'FirstReviewTime'], how='left')\n",
    "\n",
    "# Drop unnecessary columns and handle missing data by filling NaNs with 0\n",
    "df3['NewProduct'].fillna(0, inplace=True)\n",
    "df3['NewProduct'] = df3['NewProduct'].apply(lambda x: 1 if x != 0 else 0)\n",
    "\n",
    "print(\"column NewProduct was sucesfully created\")\n",
    "print(df3.head())"
   ]
  },
  {
   "cell_type": "code",
   "execution_count": 398,
   "metadata": {},
   "outputs": [
    {
     "name": "stdout",
     "output_type": "stream",
     "text": [
      "   Brewer ID  Unnamed: 0       Time                    Beer Style  \\\n",
      "0       8481           0  4-09-2006  India Pale Ale &#40;IPA&#41;   \n",
      "1       8481           1  0-09-2006  India Pale Ale &#40;IPA&#41;   \n",
      "2       8481           2  5-05-2000             Bohemian Pilsener   \n",
      "3       8481           3  4-09-2006                        Kölsch   \n",
      "4       8481           4  4-09-2006                        Kölsch   \n",
      "\n",
      "   Rating First Digit  Review - Overall Beer ID  ABV FirstReviewTime  \\\n",
      "0                   1              0.65   63836  5.4       4-09-2006   \n",
      "1                   1              0.65   63836  5.4       0-09-2006   \n",
      "2                   1              0.70   71716    5       5-05-2000   \n",
      "3                   8              0.40   64125  5.4       4-09-2006   \n",
      "4                   8              0.40   64125  5.4       4-09-2006   \n",
      "\n",
      "   NewProduct  \n",
      "0           1  \n",
      "1           1  \n",
      "2           1  \n",
      "3           1  \n",
      "4           1  \n",
      "1000\n"
     ]
    }
   ],
   "source": [
    "print(df3.head())\n",
    "print(len(df3))"
   ]
  },
  {
   "cell_type": "code",
   "execution_count": 399,
   "metadata": {},
   "outputs": [],
   "source": [
    "########## NewMarket Calculation\n",
    "# For each 'BeerID', determine if its first review is also the first entry of the brewer into that 'Beer Style'\n",
    "# This step identifies first market entries into new beer styles for each brewer\n",
    "first_style_entry = first_review.drop_duplicates(subset=['Brewer ID', 'Beer Style'])\n",
    "\n",
    "# Count these first entries for each 'Brewer ID' and time period\n",
    "# This gives the number of new market segments (beer styles) each brewer entered in each time period\n",
    "new_market_count = first_style_entry.groupby(['Brewer ID', 'FirstReviewTime']).size().reset_index(name='NewMarket')\n",
    "\n",
    "# Merge the new market count with df3, matching on both 'BrewerID' and 'Time'\n",
    "df3 = df3.merge(new_market_count, left_on=['Brewer ID', 'Time'], right_on=['Brewer ID', 'FirstReviewTime'], how='left')\n",
    "\n",
    "# Drop unnecessary columns and handle missing data by filling NaNs with 0\n",
    "df3['NewMarket'].fillna(0, inplace=True)\n",
    "\n",
    "df3['NewMarket'] = df3['NewMarket'].apply(lambda x: 1 if x != 0 else 0)\n",
    "df3.drop(columns=['FirstReviewTime_x'], inplace=True)\n",
    "df3 = df3.rename(columns={'FirstReviewTime_y': 'FirstReviewTime'})\n",
    "\n"
   ]
  },
  {
   "cell_type": "code",
   "execution_count": 400,
   "metadata": {},
   "outputs": [
    {
     "name": "stdout",
     "output_type": "stream",
     "text": [
      "   Brewer ID  Unnamed: 0       Time                    Beer Style  \\\n",
      "0       8481           0  4-09-2006  India Pale Ale &#40;IPA&#41;   \n",
      "1       8481           1  0-09-2006  India Pale Ale &#40;IPA&#41;   \n",
      "2       8481           2  5-05-2000             Bohemian Pilsener   \n",
      "3       8481           3  4-09-2006                        Kölsch   \n",
      "4       8481           4  4-09-2006                        Kölsch   \n",
      "\n",
      "   Rating First Digit  Review - Overall Beer ID  ABV  NewProduct  \\\n",
      "0                   1              0.65   63836  5.4           1   \n",
      "1                   1              0.65   63836  5.4           1   \n",
      "2                   1              0.70   71716    5           1   \n",
      "3                   8              0.40   64125  5.4           1   \n",
      "4                   8              0.40   64125  5.4           1   \n",
      "\n",
      "  FirstReviewTime  NewMarket  \n",
      "0       4-09-2006          1  \n",
      "1       0-09-2006          1  \n",
      "2       5-05-2000          1  \n",
      "3       4-09-2006          1  \n",
      "4       4-09-2006          1  \n",
      "1000\n"
     ]
    }
   ],
   "source": [
    "print(df3.head())\n",
    "print(len(df3))"
   ]
  },
  {
   "cell_type": "code",
   "execution_count": 401,
   "metadata": {},
   "outputs": [
    {
     "name": "stdout",
     "output_type": "stream",
     "text": [
      "column NewCategory was sucesfully created\n"
     ]
    }
   ],
   "source": [
    "########## NewCategory Calculation\n",
    "# Identify the first occurrence of each BeerStyle\n",
    "first_style_occurrence = df.groupby('Beer Style')['Review - Time'].min().reset_index()\n",
    "first_style_occurrence['FirstStyleTime'] = pd.to_datetime(first_style_occurrence['Review - Time'], unit='s').dt.strftime('%w-%m-%Y')\n",
    "\n",
    "# Count new BeerStyle categories for each time period\n",
    "# This gives the number of new beer styles introduced in each time period\n",
    "new_category_count = first_style_occurrence.groupby('FirstStyleTime').size().reset_index(name='NewCategory')\n",
    "\n",
    "# Merge this count with df3\n",
    "df3 = df3.merge(new_category_count, left_on='Time', right_on='FirstStyleTime', how='left')\n",
    "\n",
    "# Drop the extra FirstStyleTime column\n",
    "df3.drop('FirstStyleTime', axis=1, inplace=True)\n",
    "\n",
    "# Handle missing data (if there are time periods with no new categories)\n",
    "df3['NewCategory'].fillna(0, inplace=True)\n",
    "df3['NewCategory'] = df3['NewCategory'].apply(lambda x: 1 if x != 0 else 0)\n",
    "\n",
    "print(\"column NewCategory was sucesfully created\")"
   ]
  },
  {
   "cell_type": "code",
   "execution_count": 402,
   "metadata": {},
   "outputs": [
    {
     "name": "stdout",
     "output_type": "stream",
     "text": [
      "column Imitation was sucesfully created\n",
      "1000\n",
      "   Brewer ID  Unnamed: 0       Time                    Beer Style  \\\n",
      "0       8481           0  4-09-2006  India Pale Ale &#40;IPA&#41;   \n",
      "1       8481           1  0-09-2006  India Pale Ale &#40;IPA&#41;   \n",
      "2       8481           2  5-05-2000             Bohemian Pilsener   \n",
      "3       8481           3  4-09-2006                        Kölsch   \n",
      "4       8481           4  4-09-2006                        Kölsch   \n",
      "\n",
      "   Rating First Digit  Review - Overall Beer ID  ABV  NewProduct  \\\n",
      "0                   1              0.65   63836  5.4           1   \n",
      "1                   1              0.65   63836  5.4           1   \n",
      "2                   1              0.70   71716    5           1   \n",
      "3                   8              0.40   64125  5.4           1   \n",
      "4                   8              0.40   64125  5.4           1   \n",
      "\n",
      "  FirstReviewTime  NewMarket  NewCategory  Imitation  \n",
      "0       4-09-2006          1            1        0.0  \n",
      "1       0-09-2006          1            0        0.0  \n",
      "2       5-05-2000          1            1        0.0  \n",
      "3       4-09-2006          1            1        0.0  \n",
      "4       4-09-2006          1            1        0.0  \n"
     ]
    }
   ],
   "source": [
    "########## Imitation Calculation\n",
    "\n",
    "# Filter df3 for new market entries\n",
    "new_market_entries = df3[df3['NewMarket'] > 0]\n",
    "\n",
    "# Adjust the grouping in `product_launches`\n",
    "product_launches = new_market_entries.groupby(['Beer Style', 'Time', 'Brewer ID']).size().reset_index(name='NewMarketEntryCount')\n",
    "\n",
    "# Define the total number of rows in the DataFrame\n",
    "total_rows = len(product_launches)\n",
    "\n",
    "# Set an interval for printing progress updates\n",
    "print_interval = 100  # Modify this number as needed\n",
    "\n",
    "def calculate_imitation(brewer_id, beer_style, time, product_launches_df):\n",
    "    time_window_start = datetime.strptime(time, '%w-%m-%Y') - relativedelta(months=3)\n",
    "    time_window_start_str = time_window_start.strftime('%w-%m-%Y')\n",
    "\n",
    "    competitor_launches = product_launches_df[\n",
    "        (product_launches_df['Beer Style'] == beer_style) & \n",
    "        (product_launches_df['Time'] >= time_window_start_str) &\n",
    "        (product_launches_df['Time'] < time) &\n",
    "        (product_launches_df['Brewer ID'] != brewer_id)\n",
    "    ]\n",
    "    return competitor_launches['NewMarketEntryCount'].sum()\n",
    "\n",
    "# Create a column for Imitation and print progress\n",
    "product_launches['Imitation'] = 0\n",
    "for index, row in product_launches.iterrows():\n",
    "    imitation_count = calculate_imitation(row['Brewer ID'], row['Beer Style'], row['Time'], product_launches)\n",
    "    product_launches.at[index, 'Imitation'] = 1 if imitation_count > 0 else 0\n",
    "    if (index + 1) % print_interval == 0:\n",
    "        print(f\"Progress: {index + 1}/{total_rows}\")\n",
    "\n",
    "# Merge the Imitation results back into df3\n",
    "df3 = df3.merge(product_launches[['Beer Style', 'Time', 'Brewer ID', 'Imitation']], \n",
    "                on=['Beer Style', 'Time', 'Brewer ID'], \n",
    "                how='left')\n",
    "\n",
    "print(\"column Imitation was sucesfully created\")\n",
    "print(len(df3))\n",
    "print(df3.head())"
   ]
  },
  {
   "cell_type": "code",
   "execution_count": 403,
   "metadata": {},
   "outputs": [
    {
     "name": "stdout",
     "output_type": "stream",
     "text": [
      "1000\n",
      "   Brewer ID  Unnamed: 0       Time                    Beer Style  \\\n",
      "0       8481           0  4-09-2006  India Pale Ale &#40;IPA&#41;   \n",
      "1       8481           1  0-09-2006  India Pale Ale &#40;IPA&#41;   \n",
      "2       8481           2  5-05-2000             Bohemian Pilsener   \n",
      "3       8481           3  4-09-2006                        Kölsch   \n",
      "4       8481           4  4-09-2006                        Kölsch   \n",
      "\n",
      "   Rating First Digit  Review - Overall Beer ID  ABV  NewProduct  \\\n",
      "0                   1              0.65   63836  5.4           1   \n",
      "1                   1              0.65   63836  5.4           1   \n",
      "2                   1              0.70   71716    5           1   \n",
      "3                   8              0.40   64125  5.4           1   \n",
      "4                   8              0.40   64125  5.4           1   \n",
      "\n",
      "  FirstReviewTime  NewMarket  NewCategory  Imitation  \n",
      "0       4-09-2006          1            1        0.0  \n",
      "1       0-09-2006          1            0        0.0  \n",
      "2       5-05-2000          1            1        0.0  \n",
      "3       4-09-2006          1            1        0.0  \n",
      "4       4-09-2006          1            1        0.0  \n"
     ]
    }
   ],
   "source": [
    "print(len(df3))\n",
    "print(df3.head())"
   ]
  },
  {
   "cell_type": "code",
   "execution_count": 404,
   "metadata": {},
   "outputs": [
    {
     "name": "stdout",
     "output_type": "stream",
     "text": [
      "Processed 10 product launches out of 58\n",
      "Processed 20 product launches out of 58\n",
      "Processed 30 product launches out of 58\n",
      "Processed 40 product launches out of 58\n",
      "Processed 50 product launches out of 58\n"
     ]
    }
   ],
   "source": [
    "########## NegativePerformanceD\n",
    "\n",
    "import pandas as pd\n",
    "from datetime import datetime\n",
    "from dateutil.relativedelta import relativedelta\n",
    "import math\n",
    "\n",
    "# Assuming df3 is your existing DataFrame\n",
    "\n",
    "# Filter df3 for new market entries\n",
    "new_market_entries = df3[df3['NewMarket'] > 0]\n",
    "\n",
    "# Group new market entries by 'Beer Style', 'Time', and 'Brewer ID'\n",
    "product_launches = new_market_entries.groupby(['Beer Style', 'Time', 'Brewer ID']).size().reset_index(name='NewMarketEntryCount')\n",
    "\n",
    "# Function to find competitors\n",
    "def find_competitors(focal_brewer_id, beer_style, df):\n",
    "    # Filter for the given beer style\n",
    "    style_df = df[df['Beer Style'] == beer_style]\n",
    "\n",
    "    # Find the first-digit rating of the focal firm's product\n",
    "    focal_rating = style_df[style_df['Brewer ID'] == focal_brewer_id]['Rating First Digit'].iloc[0]\n",
    "\n",
    "    # Find competitors: different brewer, same first-digit rating\n",
    "    competitors = style_df[\n",
    "        (style_df['Brewer ID'] != focal_brewer_id) &\n",
    "        (style_df['Rating First Digit'] == focal_rating)\n",
    "    ]['Brewer ID'].unique()\n",
    "\n",
    "    return competitors\n",
    "\n",
    "# Function to check if rating has declined\n",
    "def has_rating_declined(brewer_id, beer_style, time, df):\n",
    "    # Convert the 'Time' string to a datetime object\n",
    "    time_obj = datetime.strptime(time, '%w-%m-%Y')\n",
    "\n",
    "    # Define the time window: 3 weeks from the given date\n",
    "    time_window_start = time_obj - relativedelta(weeks=3)\n",
    "    time_window_end = time_obj\n",
    "\n",
    "    # Filter for the specific brewer, beer style, and time window\n",
    "    ratings_df = df[\n",
    "        (df['Brewer ID'] == brewer_id) &\n",
    "        (df['Beer Style'] == beer_style) &\n",
    "        (df['Time'] >= time_window_start.strftime('%w-%m-%Y')) &\n",
    "        (df['Time'] <= time_window_end.strftime('%w-%m-%Y'))\n",
    "    ]\n",
    "\n",
    "    # Check if ratings declined\n",
    "    if not ratings_df.empty:\n",
    "        sorted_ratings = ratings_df.sort_values(by='Time')\n",
    "        start_rating = sorted_ratings['Rating First Digit'].iloc[0]\n",
    "        end_rating = sorted_ratings['Rating First Digit'].iloc[-1]\n",
    "        return end_rating < start_rating\n",
    "    else:\n",
    "        return False\n",
    "\n",
    "# Function to check negative performance\n",
    "def check_negative_performance(row, df):\n",
    "    # Identify competitors\n",
    "    competitors = find_competitors(row['Brewer ID'], row['Beer Style'], df)\n",
    "\n",
    "    # Check if the rating declined over the last three weeks\n",
    "    has_declined = has_rating_declined(row['Brewer ID'], row['Beer Style'], row['Time'], df)\n",
    "\n",
    "    if len(competitors) > 0 and has_declined:\n",
    "        return 1\n",
    "    else:\n",
    "        return 0\n",
    "\n",
    "# Apply the function in batches of 10 rows\n",
    "total_rows = len(df3)\n",
    "chunks = math.ceil(total_rows / 10)\n",
    "\n",
    "# Apply the function to each row in df3 and print progress every 10 rows\n",
    "total_launches = len(product_launches)\n",
    "for i, row in product_launches.iterrows():\n",
    "    # Find the corresponding row(s) in df3\n",
    "    df3_indices = df3[(df3['Brewer ID'] == row['Brewer ID']) & \n",
    "                      (df3['Beer Style'] == row['Beer Style']) & \n",
    "                      (df3['Time'] == row['Time'])].index\n",
    "\n",
    "    # Calculate NegativePerformanceD for each corresponding row in df3\n",
    "    for idx in df3_indices:\n",
    "        df3.at[idx, 'NegativePerformanceD'] = check_negative_performance(df3.iloc[idx], df3)\n",
    "\n",
    "    # Print progress every 10 rows\n",
    "    if (i+1) % 10 == 0:\n",
    "        print(f\"Processed {i+1} product launches out of {total_launches}\")\n",
    "\n"
   ]
  },
  {
   "cell_type": "code",
   "execution_count": 405,
   "metadata": {},
   "outputs": [
    {
     "name": "stdout",
     "output_type": "stream",
     "text": [
      "1000\n",
      "   Brewer ID  Unnamed: 0       Time                    Beer Style  \\\n",
      "0       8481           0  4-09-2006  India Pale Ale &#40;IPA&#41;   \n",
      "1       8481           1  0-09-2006  India Pale Ale &#40;IPA&#41;   \n",
      "2       8481           2  5-05-2000             Bohemian Pilsener   \n",
      "3       8481           3  4-09-2006                        Kölsch   \n",
      "4       8481           4  4-09-2006                        Kölsch   \n",
      "\n",
      "   Rating First Digit  Review - Overall Beer ID  ABV  NewProduct  \\\n",
      "0                   1              0.65   63836  5.4           1   \n",
      "1                   1              0.65   63836  5.4           1   \n",
      "2                   1              0.70   71716    5           1   \n",
      "3                   8              0.40   64125  5.4           1   \n",
      "4                   8              0.40   64125  5.4           1   \n",
      "\n",
      "  FirstReviewTime  NewMarket  NewCategory  Imitation  NegativePerformanceD  \n",
      "0       4-09-2006          1            1        0.0                   0.0  \n",
      "1       0-09-2006          1            0        0.0                   0.0  \n",
      "2       5-05-2000          1            1        0.0                   0.0  \n",
      "3       4-09-2006          1            1        0.0                   0.0  \n",
      "4       4-09-2006          1            1        0.0                   0.0  \n",
      "1.0\n"
     ]
    }
   ],
   "source": [
    "print(len(df3))\n",
    "print(df3.head())\n",
    "print(df3['NegativePerformanceD'].max())"
   ]
  },
  {
   "cell_type": "code",
   "execution_count": 406,
   "metadata": {},
   "outputs": [
    {
     "name": "stdout",
     "output_type": "stream",
     "text": [
      "Processed 10 product launches out of 58\n",
      "Processed 20 product launches out of 58\n",
      "Processed 30 product launches out of 58\n",
      "Processed 40 product launches out of 58\n",
      "Processed 50 product launches out of 58\n"
     ]
    }
   ],
   "source": [
    "########## Negative performance - continuous\n",
    "\n",
    "def competitors_new_market_avg_rating(brewer_id, beer_style, time, df):\n",
    "    competitors = find_competitors(brewer_id, beer_style, df)\n",
    "    if len(competitors) > 0:\n",
    "        competitor_new_market_ratings = df[\n",
    "            (df['Brewer ID'].isin(competitors)) &\n",
    "            (df['Beer Style'] == beer_style) &\n",
    "            (df['Time'] == time) &\n",
    "            (df['NewMarket'] > 0)\n",
    "        ]['Review - Overall']\n",
    "        if not competitor_new_market_ratings.empty:\n",
    "            return competitor_new_market_ratings.mean()\n",
    "    return None\n",
    "\n",
    "\n",
    "def calculate_negative_performance_c(row, df):\n",
    "    competitors_new_market_rating = competitors_new_market_avg_rating(row['Brewer ID'], row['Beer Style'], row['Time'], df)\n",
    "    if competitors_new_market_rating is not None and competitors_new_market_rating != 0:\n",
    "        return (row['Review - Overall'] - competitors_new_market_rating) / competitors_new_market_rating\n",
    "    else:\n",
    "        return 0  # Assign 0 if conditions are not met\n",
    "\n",
    "\n",
    "total_launches = len(product_launches)\n",
    "for i, row in product_launches.iterrows():\n",
    "    # Find the corresponding row(s) in df3\n",
    "    df3_indices = df3[(df3['Brewer ID'] == row['Brewer ID']) & \n",
    "                      (df3['Beer Style'] == row['Beer Style']) & \n",
    "                      (df3['Time'] == row['Time'])].index\n",
    "\n",
    "    # Calculate NegativePerformanceC for each corresponding row in df3\n",
    "    for idx in df3_indices:\n",
    "        df3.at[idx, 'NegativePerformanceC'] = calculate_negative_performance_c(df3.iloc[idx], df3)\n",
    "\n",
    "    # Print progress every 10 rows\n",
    "    if (i+1) % 10 == 0:\n",
    "        print(f\"Processed {i+1} product launches out of {total_launches}\")\n",
    "\n",
    "\n"
   ]
  },
  {
   "cell_type": "code",
   "execution_count": 407,
   "metadata": {},
   "outputs": [
    {
     "name": "stdout",
     "output_type": "stream",
     "text": [
      "1000\n",
      "   Brewer ID  Unnamed: 0       Time                    Beer Style  \\\n",
      "0       8481           0  4-09-2006  India Pale Ale &#40;IPA&#41;   \n",
      "1       8481           1  0-09-2006  India Pale Ale &#40;IPA&#41;   \n",
      "2       8481           2  5-05-2000             Bohemian Pilsener   \n",
      "3       8481           3  4-09-2006                        Kölsch   \n",
      "4       8481           4  4-09-2006                        Kölsch   \n",
      "\n",
      "   Rating First Digit  Review - Overall Beer ID  ABV  NewProduct  \\\n",
      "0                   1              0.65   63836  5.4           1   \n",
      "1                   1              0.65   63836  5.4           1   \n",
      "2                   1              0.70   71716    5           1   \n",
      "3                   8              0.40   64125  5.4           1   \n",
      "4                   8              0.40   64125  5.4           1   \n",
      "\n",
      "  FirstReviewTime  NewMarket  NewCategory  Imitation  NegativePerformanceD  \\\n",
      "0       4-09-2006          1            1        0.0                   0.0   \n",
      "1       0-09-2006          1            0        0.0                   0.0   \n",
      "2       5-05-2000          1            1        0.0                   0.0   \n",
      "3       4-09-2006          1            1        0.0                   0.0   \n",
      "4       4-09-2006          1            1        0.0                   0.0   \n",
      "\n",
      "   NegativePerformanceC  \n",
      "0                   0.0  \n",
      "1                   0.0  \n",
      "2                   0.0  \n",
      "3                   0.0  \n",
      "4                   0.0  \n",
      "0.0\n"
     ]
    }
   ],
   "source": [
    "print(len(df3))\n",
    "print(df3.head())\n",
    "print(df3['NegativePerformanceC'].max())"
   ]
  },
  {
   "cell_type": "code",
   "execution_count": 408,
   "metadata": {},
   "outputs": [
    {
     "name": "stdout",
     "output_type": "stream",
     "text": [
      "Processed 10 product launches out of 58\n",
      "Processed 20 product launches out of 58\n",
      "Processed 30 product launches out of 58\n",
      "Processed 40 product launches out of 58\n",
      "Processed 50 product launches out of 58\n"
     ]
    }
   ],
   "source": [
    "########## CompetitorPosition\n",
    "\n",
    "def compare_competitor_review(focal_brewer_id, beer_style, time, df):\n",
    "    focal_review = df[(df['Brewer ID'] == focal_brewer_id) &\n",
    "                      (df['Beer Style'] == beer_style) &\n",
    "                      (df['Time'] == time)]['Review - Overall'].iloc[0]\n",
    "\n",
    "    competitors = find_competitors(focal_brewer_id, beer_style, df)\n",
    "    if len(competitors) > 0:\n",
    "        competitors_reviews = df[\n",
    "            (df['Brewer ID'].isin(competitors)) &\n",
    "            (df['Beer Style'] == beer_style) &\n",
    "            (df['Time'] == time)\n",
    "        ]['Review - Overall']\n",
    "\n",
    "        if not competitors_reviews.empty:\n",
    "            # Check if any competitor has a higher review\n",
    "            return 1 if any(competitors_reviews > focal_review) else 0\n",
    "    return 0\n",
    "\n",
    "\n",
    "\n",
    "total_launches = len(product_launches)\n",
    "for i, row in product_launches.iterrows():\n",
    "    # Find the corresponding row(s) in df3\n",
    "    df3_indices = df3[(df3['Brewer ID'] == row['Brewer ID']) &\n",
    "                      (df3['Beer Style'] == row['Beer Style']) &\n",
    "                      (df3['Time'] == row['Time'])].index\n",
    "\n",
    "    # Calculate CompetitorPosition for each corresponding row in df3\n",
    "    for idx in df3_indices:\n",
    "        df3.at[idx, 'CompetitorPosition'] = compare_competitor_review(df3.iloc[idx]['Brewer ID'], df3.iloc[idx]['Beer Style'], df3.iloc[idx]['Time'], df3)\n",
    "\n",
    "    # Print progress every 10 rows\n",
    "    if (i+1) % 10 == 0:\n",
    "        print(f\"Processed {i+1} product launches out of {total_launches}\")\n"
   ]
  },
  {
   "cell_type": "code",
   "execution_count": 409,
   "metadata": {},
   "outputs": [
    {
     "name": "stdout",
     "output_type": "stream",
     "text": [
      "1000\n",
      "   Brewer ID  Unnamed: 0       Time                    Beer Style  \\\n",
      "0       8481           0  4-09-2006  India Pale Ale &#40;IPA&#41;   \n",
      "1       8481           1  0-09-2006  India Pale Ale &#40;IPA&#41;   \n",
      "2       8481           2  5-05-2000             Bohemian Pilsener   \n",
      "3       8481           3  4-09-2006                        Kölsch   \n",
      "4       8481           4  4-09-2006                        Kölsch   \n",
      "\n",
      "   Rating First Digit  Review - Overall Beer ID  ABV  NewProduct  \\\n",
      "0                   1              0.65   63836  5.4           1   \n",
      "1                   1              0.65   63836  5.4           1   \n",
      "2                   1              0.70   71716    5           1   \n",
      "3                   8              0.40   64125  5.4           1   \n",
      "4                   8              0.40   64125  5.4           1   \n",
      "\n",
      "  FirstReviewTime  NewMarket  NewCategory  Imitation  NegativePerformanceD  \\\n",
      "0       4-09-2006          1            1        0.0                   0.0   \n",
      "1       0-09-2006          1            0        0.0                   0.0   \n",
      "2       5-05-2000          1            1        0.0                   0.0   \n",
      "3       4-09-2006          1            1        0.0                   0.0   \n",
      "4       4-09-2006          1            1        0.0                   0.0   \n",
      "\n",
      "   NegativePerformanceC  CompetitorPosition  \n",
      "0                   0.0                 0.0  \n",
      "1                   0.0                 0.0  \n",
      "2                   0.0                 0.0  \n",
      "3                   0.0                 0.0  \n",
      "4                   0.0                 0.0  \n",
      "0.0\n"
     ]
    }
   ],
   "source": [
    "print(len(df3))\n",
    "print(df3.head())\n",
    "print(df3['CompetitorPosition'].max())"
   ]
  },
  {
   "cell_type": "code",
   "execution_count": 410,
   "metadata": {},
   "outputs": [],
   "source": [
    "########## MRank\n",
    "\n",
    "# Convert 'Time' to datetime and extract the month and year\n",
    "df3['MonthYear'] = pd.to_datetime(df3['Time'], format='%w-%m-%Y').dt.to_period('M')\n",
    "\n",
    "# Rank products within each group (e.g., 'Beer Style') for each month\n",
    "df3['MonthlyRank'] = df3.groupby(['Beer Style', 'MonthYear'])['Review - Overall'].rank(\"average\", ascending=False)\n",
    "\n",
    "# Group by the relevant identifier (e.g., 'Brewer ID') and calculate the average rank\n",
    "MRank = df3.groupby('Brewer ID')['MonthlyRank'].mean().reset_index(name='MRank')\n",
    "\n",
    "# Merge this back into the original df3 if needed\n",
    "df3 = df3.merge(MRank, on='Brewer ID', how='left')\n"
   ]
  },
  {
   "cell_type": "code",
   "execution_count": 411,
   "metadata": {},
   "outputs": [
    {
     "name": "stdout",
     "output_type": "stream",
     "text": [
      "1000\n",
      "   Brewer ID  Unnamed: 0       Time                    Beer Style  \\\n",
      "0       8481           0  4-09-2006  India Pale Ale &#40;IPA&#41;   \n",
      "1       8481           1  0-09-2006  India Pale Ale &#40;IPA&#41;   \n",
      "2       8481           2  5-05-2000             Bohemian Pilsener   \n",
      "3       8481           3  4-09-2006                        Kölsch   \n",
      "4       8481           4  4-09-2006                        Kölsch   \n",
      "\n",
      "   Rating First Digit  Review - Overall Beer ID  ABV  NewProduct  \\\n",
      "0                   1              0.65   63836  5.4           1   \n",
      "1                   1              0.65   63836  5.4           1   \n",
      "2                   1              0.70   71716    5           1   \n",
      "3                   8              0.40   64125  5.4           1   \n",
      "4                   8              0.40   64125  5.4           1   \n",
      "\n",
      "  FirstReviewTime  NewMarket  NewCategory  Imitation  NegativePerformanceD  \\\n",
      "0       4-09-2006          1            1        0.0                   0.0   \n",
      "1       0-09-2006          1            0        0.0                   0.0   \n",
      "2       5-05-2000          1            1        0.0                   0.0   \n",
      "3       4-09-2006          1            1        0.0                   0.0   \n",
      "4       4-09-2006          1            1        0.0                   0.0   \n",
      "\n",
      "   NegativePerformanceC  CompetitorPosition MonthYear  MonthlyRank     MRank  \n",
      "0                   0.0                 0.0   2006-09          3.5  1.466667  \n",
      "1                   0.0                 0.0   2006-09          3.5  1.466667  \n",
      "2                   0.0                 0.0   2000-05          1.0  1.466667  \n",
      "3                   0.0                 0.0   2006-09          1.5  1.466667  \n",
      "4                   0.0                 0.0   2006-09          1.5  1.466667  \n",
      "2.7522842639593907\n"
     ]
    }
   ],
   "source": [
    "print(len(df3))\n",
    "print(df3.head())\n",
    "print(df3['MRank'].max())"
   ]
  },
  {
   "cell_type": "code",
   "execution_count": 412,
   "metadata": {},
   "outputs": [],
   "source": [
    "########## SDRank\n",
    "\n",
    "# Convert 'Time' to datetime and extract the month and year\n",
    "df3['MonthYear'] = pd.to_datetime(df3['Time'], format='%w-%m-%Y').dt.to_period('M')\n",
    "\n",
    "# Rank products within each group (e.g., 'Beer Style') for each month based on 'Review - Overall'\n",
    "df3['MonthlyRank'] = df3.groupby(['Beer Style', 'MonthYear'])['Review - Overall'].rank(\"average\", ascending=False)\n",
    "\n",
    "# Group by the relevant identifier (e.g., 'Brewer ID') and calculate the standard deviation of the rank\n",
    "SDRank = df3.groupby('Brewer ID')['MonthlyRank'].std().reset_index(name='SDRank')\n",
    "\n",
    "# Merge this back into the original df3\n",
    "df3 = df3.merge(SDRank, on='Brewer ID', how='left')\n"
   ]
  },
  {
   "cell_type": "code",
   "execution_count": 413,
   "metadata": {},
   "outputs": [
    {
     "name": "stdout",
     "output_type": "stream",
     "text": [
      "1000\n",
      "   Brewer ID  Unnamed: 0       Time                    Beer Style  \\\n",
      "0       8481           0  4-09-2006  India Pale Ale &#40;IPA&#41;   \n",
      "1       8481           1  0-09-2006  India Pale Ale &#40;IPA&#41;   \n",
      "2       8481           2  5-05-2000             Bohemian Pilsener   \n",
      "3       8481           3  4-09-2006                        Kölsch   \n",
      "4       8481           4  4-09-2006                        Kölsch   \n",
      "\n",
      "   Rating First Digit  Review - Overall Beer ID  ABV  NewProduct  \\\n",
      "0                   1              0.65   63836  5.4           1   \n",
      "1                   1              0.65   63836  5.4           1   \n",
      "2                   1              0.70   71716    5           1   \n",
      "3                   8              0.40   64125  5.4           1   \n",
      "4                   8              0.40   64125  5.4           1   \n",
      "\n",
      "  FirstReviewTime  NewMarket  NewCategory  Imitation  NegativePerformanceD  \\\n",
      "0       4-09-2006          1            1        0.0                   0.0   \n",
      "1       0-09-2006          1            0        0.0                   0.0   \n",
      "2       5-05-2000          1            1        0.0                   0.0   \n",
      "3       4-09-2006          1            1        0.0                   0.0   \n",
      "4       4-09-2006          1            1        0.0                   0.0   \n",
      "\n",
      "   NegativePerformanceC  CompetitorPosition MonthYear  MonthlyRank     MRank  \\\n",
      "0                   0.0                 0.0   2006-09          3.5  1.466667   \n",
      "1                   0.0                 0.0   2006-09          3.5  1.466667   \n",
      "2                   0.0                 0.0   2000-05          1.0  1.466667   \n",
      "3                   0.0                 0.0   2006-09          1.5  1.466667   \n",
      "4                   0.0                 0.0   2006-09          1.5  1.466667   \n",
      "\n",
      "     SDRank  \n",
      "0  0.875595  \n",
      "1  0.875595  \n",
      "2  0.875595  \n",
      "3  0.875595  \n",
      "4  0.875595  \n",
      "2.1114903803780285\n"
     ]
    }
   ],
   "source": [
    "print(len(df3))\n",
    "print(df3.head())\n",
    "print(df3['SDRank'].max())"
   ]
  },
  {
   "cell_type": "code",
   "execution_count": 414,
   "metadata": {},
   "outputs": [],
   "source": [
    "########## Competition\n",
    "\n",
    "# Assuming 'Beer Style' is the product category\n",
    "\n",
    "# Group by 'Beer Style' and 'MonthYear', and count unique 'Brewer ID'\n",
    "competition_counts = df3.groupby(['Beer Style', 'MonthYear'])['Brewer ID'].nunique().reset_index(name='Competition')\n",
    "\n",
    "# Merge this count back into the original df3\n",
    "df3 = df3.merge(competition_counts, on=['Beer Style', 'MonthYear'], how='left')\n",
    "\n"
   ]
  },
  {
   "cell_type": "code",
   "execution_count": 415,
   "metadata": {},
   "outputs": [
    {
     "name": "stdout",
     "output_type": "stream",
     "text": [
      "1000\n",
      "   Brewer ID  Unnamed: 0       Time                    Beer Style  \\\n",
      "0       8481           0  4-09-2006  India Pale Ale &#40;IPA&#41;   \n",
      "1       8481           1  0-09-2006  India Pale Ale &#40;IPA&#41;   \n",
      "2       8481           2  5-05-2000             Bohemian Pilsener   \n",
      "3       8481           3  4-09-2006                        Kölsch   \n",
      "4       8481           4  4-09-2006                        Kölsch   \n",
      "\n",
      "   Rating First Digit  Review - Overall Beer ID  ABV  NewProduct  \\\n",
      "0                   1              0.65   63836  5.4           1   \n",
      "1                   1              0.65   63836  5.4           1   \n",
      "2                   1              0.70   71716    5           1   \n",
      "3                   8              0.40   64125  5.4           1   \n",
      "4                   8              0.40   64125  5.4           1   \n",
      "\n",
      "  FirstReviewTime  ...  NewCategory  Imitation  NegativePerformanceD  \\\n",
      "0       4-09-2006  ...            1        0.0                   0.0   \n",
      "1       0-09-2006  ...            0        0.0                   0.0   \n",
      "2       5-05-2000  ...            1        0.0                   0.0   \n",
      "3       4-09-2006  ...            1        0.0                   0.0   \n",
      "4       4-09-2006  ...            1        0.0                   0.0   \n",
      "\n",
      "   NegativePerformanceC  CompetitorPosition  MonthYear MonthlyRank     MRank  \\\n",
      "0                   0.0                 0.0    2006-09         3.5  1.466667   \n",
      "1                   0.0                 0.0    2006-09         3.5  1.466667   \n",
      "2                   0.0                 0.0    2000-05         1.0  1.466667   \n",
      "3                   0.0                 0.0    2006-09         1.5  1.466667   \n",
      "4                   0.0                 0.0    2006-09         1.5  1.466667   \n",
      "\n",
      "     SDRank  Competition  \n",
      "0  0.875595            2  \n",
      "1  0.875595            2  \n",
      "2  0.875595            1  \n",
      "3  0.875595            1  \n",
      "4  0.875595            1  \n",
      "\n",
      "[5 rows x 21 columns]\n",
      "2\n"
     ]
    }
   ],
   "source": [
    "print(len(df3))\n",
    "print(df3.head())\n",
    "print(df3['Competition'].max())"
   ]
  },
  {
   "cell_type": "code",
   "execution_count": 416,
   "metadata": {},
   "outputs": [],
   "source": [
    "########## \n",
    "\n",
    "# Convert 'Time' to datetime\n",
    "df3['Date'] = pd.to_datetime(df3['Time'], format='%w-%m-%Y')\n",
    "\n",
    "# For each row, calculate the number of products receiving reviews in the past 12 months\n",
    "def count_products_last_12_months(row, df):\n",
    "    start_date = row['Date'] - pd.DateOffset(months=12)\n",
    "    end_date = row['Date']\n",
    "    return df[(df['Brewer ID'] == row['Brewer ID']) & \n",
    "              (df['Date'] >= start_date) & \n",
    "              (df['Date'] <= end_date)]['Beer ID'].nunique()\n",
    "\n",
    "df3['Portfolio'] = df3.apply(lambda row: count_products_last_12_months(row, df3), axis=1)\n"
   ]
  },
  {
   "cell_type": "code",
   "execution_count": 417,
   "metadata": {},
   "outputs": [],
   "source": [
    "import re  # Import the regular expressions module\n",
    "\n",
    "def convert_abv_to_numeric(abv_string):\n",
    "    try:\n",
    "        # Split the string by any non-numeric character and filter out empty strings\n",
    "        abv_values = [float(value) for value in re.split('[^0-9.]+', abv_string) if value]\n",
    "        return sum(abv_values) / len(abv_values) if abv_values else None\n",
    "    except ValueError:\n",
    "        return None\n",
    "\n",
    "# Apply this conversion to the 'ABV' column\n",
    "df3['ABV'] = df3['ABV'].apply(convert_abv_to_numeric)\n",
    "\n",
    "# Function to calculate the average ABV in the past 12 months\n",
    "def average_abv_last_12_months(row, df):\n",
    "    start_date = row['Date'] - pd.DateOffset(months=12)\n",
    "    end_date = row['Date']\n",
    "    relevant_data = df[(df['Brewer ID'] == row['Brewer ID']) & \n",
    "                       (df['Date'] >= start_date) & \n",
    "                       (df['Date'] <= end_date)]\n",
    "    # Calculate the average ABV\n",
    "    if not relevant_data.empty:\n",
    "        return relevant_data['ABV'].mean()\n",
    "    else:\n",
    "        return None\n",
    "\n",
    "# Apply the function to df3\n",
    "df3['ABV'] = df3.apply(lambda row: average_abv_last_12_months(row, df3), axis=1)\n"
   ]
  },
  {
   "cell_type": "code",
   "execution_count": 418,
   "metadata": {},
   "outputs": [
    {
     "name": "stdout",
     "output_type": "stream",
     "text": [
      "7.0\n"
     ]
    }
   ],
   "source": [
    "#print(len(df3))\n",
    "#print(df3.head())\n",
    "print(df3['ABV'].max())"
   ]
  },
  {
   "cell_type": "code",
   "execution_count": 419,
   "metadata": {},
   "outputs": [],
   "source": [
    "########## Diversification\n",
    "\n",
    "def count_unique_categories_last_12_months(row, df):\n",
    "    start_date = row['Date'] - pd.DateOffset(months=12)\n",
    "    end_date = row['Date']\n",
    "    relevant_data = df[(df['Brewer ID'] == row['Brewer ID']) & \n",
    "                       (df['Date'] >= start_date) & \n",
    "                       (df['Date'] <= end_date)]\n",
    "    # Count unique product categories\n",
    "    return relevant_data['Beer Style'].nunique()\n",
    "\n",
    "df3['Diversification'] = df3.apply(lambda row: count_unique_categories_last_12_months(row, df3), axis=1)\n",
    "\n"
   ]
  },
  {
   "cell_type": "code",
   "execution_count": 420,
   "metadata": {},
   "outputs": [
    {
     "name": "stdout",
     "output_type": "stream",
     "text": [
      "14\n"
     ]
    }
   ],
   "source": [
    "#print(len(df3))\n",
    "#print(df3.head())\n",
    "print(df3['Diversification'].max())"
   ]
  },
  {
   "cell_type": "code",
   "execution_count": 421,
   "metadata": {},
   "outputs": [],
   "source": [
    "########## Tenure\n",
    "\n",
    "first_review_dates = df3.groupby('Brewer ID')['Date'].min().reset_index()\n",
    "first_review_dates.rename(columns={'Date': 'FirstReviewDate'}, inplace=True)\n",
    "\n",
    "# Merge the first review dates with df3\n",
    "df3 = df3.merge(first_review_dates, on='Brewer ID', how='left')\n",
    "\n",
    "# Calculate Tenure as the difference between the 'Date' and 'FirstReviewDate'\n",
    "df3['Tenure'] = (df3['Date'] - df3['FirstReviewDate']).dt.days\n",
    "\n"
   ]
  },
  {
   "cell_type": "code",
   "execution_count": 422,
   "metadata": {},
   "outputs": [
    {
     "name": "stdout",
     "output_type": "stream",
     "text": [
      "3106\n"
     ]
    }
   ],
   "source": [
    "#print(len(df3))\n",
    "#print(df3.head())\n",
    "print(df3['Tenure'].max())"
   ]
  },
  {
   "cell_type": "code",
   "execution_count": 423,
   "metadata": {},
   "outputs": [
    {
     "name": "stderr",
     "output_type": "stream",
     "text": [
      "/var/folders/88/g84kk_9n2498jwvfh8mnxj8w0000gn/T/ipykernel_96284/3621156880.py:15: FutureWarning: Series.fillna with 'method' is deprecated and will raise in a future version. Use obj.ffill() or obj.bfill() instead.\n",
      "  df3['CumulativeLaunches'] = df3.groupby('Brewer ID')['CumulativeLaunches'].fillna(method='ffill')\n"
     ]
    }
   ],
   "source": [
    "########## Experience\n",
    "\n",
    "product_launches['Date'] = pd.to_datetime(product_launches['Time'], format='%w-%m-%Y')\n",
    "\n",
    "# Sort by 'Brewer ID' and 'Date'\n",
    "product_launches = product_launches.sort_values(by=['Brewer ID', 'Date'])\n",
    "\n",
    "# Count cumulative launches\n",
    "product_launches['CumulativeLaunches'] = product_launches.groupby('Brewer ID').cumcount() + 1\n",
    "\n",
    "# Merge cumulative launch counts into df3\n",
    "df3 = df3.merge(product_launches[['Brewer ID', 'Date', 'CumulativeLaunches']], on=['Brewer ID', 'Date'], how='left')\n",
    "\n",
    "# If there are any NaN values (i.e., dates in df3 without a corresponding launch in product_launches), fill them with the previous valid value\n",
    "df3['CumulativeLaunches'] = df3.groupby('Brewer ID')['CumulativeLaunches'].fillna(method='ffill')\n",
    "\n",
    "# Rename the column to 'Experience'\n",
    "df3.rename(columns={'CumulativeLaunches': 'Experience'}, inplace=True)"
   ]
  },
  {
   "cell_type": "code",
   "execution_count": 424,
   "metadata": {},
   "outputs": [
    {
     "name": "stdout",
     "output_type": "stream",
     "text": [
      "47.0\n"
     ]
    }
   ],
   "source": [
    "#print(len(df3))\n",
    "#print(df3.head())\n",
    "print(df3['Experience'].max())"
   ]
  },
  {
   "cell_type": "code",
   "execution_count": 425,
   "metadata": {},
   "outputs": [],
   "source": [
    "########## Popularity\n",
    "\n",
    "df3 = df3.sort_values(by=['Brewer ID', 'Date'])\n",
    "df3['Popularity'] = df3.groupby('Brewer ID').cumcount() + 1\n",
    "\n",
    "\n"
   ]
  },
  {
   "cell_type": "code",
   "execution_count": 426,
   "metadata": {},
   "outputs": [
    {
     "name": "stdout",
     "output_type": "stream",
     "text": [
      "1416\n"
     ]
    }
   ],
   "source": [
    "#print(len(df3))\n",
    "#print(df3.head())\n",
    "print(df3['Popularity'].max())"
   ]
  },
  {
   "cell_type": "code",
   "execution_count": 427,
   "metadata": {},
   "outputs": [],
   "source": [
    "df3 = df3[['Brewer ID', 'Time', 'NewProduct', 'NewMarket', 'NewCategory', \n",
    "           'Imitation', 'NegativePerformanceD', 'NegativePerformanceC', \n",
    "           'CompetitorPosition', 'MonthlyRank', 'MRank', 'SDRank', \n",
    "           'Competition', 'Portfolio', 'Diversification', 'FirstReviewDate', \n",
    "           'Tenure', 'Experience', 'Popularity']]\n"
   ]
  },
  {
   "cell_type": "code",
   "execution_count": 430,
   "metadata": {},
   "outputs": [
    {
     "name": "stdout",
     "output_type": "stream",
     "text": [
      "DataFrame has been exported to /Users/bruno/Documents/Statistical_Analyst_Products/results_1000.xlsx\n"
     ]
    }
   ],
   "source": [
    "excel_file_path = '/Users/bruno/Documents/Statistical_Analyst_Products/results_1000.xlsx'\n",
    "\n",
    "# Export the DataFrame to Excel\n",
    "df3.to_excel(excel_file_path, index=False)  # Set index=False to exclude the index column\n",
    "\n",
    "print(f'DataFrame has been exported to {excel_file_path}')"
   ]
  }
 ],
 "metadata": {
  "kernelspec": {
   "display_name": "Python 3",
   "language": "python",
   "name": "python3"
  },
  "language_info": {
   "codemirror_mode": {
    "name": "ipython",
    "version": 3
   },
   "file_extension": ".py",
   "mimetype": "text/x-python",
   "name": "python",
   "nbconvert_exporter": "python",
   "pygments_lexer": "ipython3",
   "version": "3.10.13"
  },
  "orig_nbformat": 4
 },
 "nbformat": 4,
 "nbformat_minor": 2
}
